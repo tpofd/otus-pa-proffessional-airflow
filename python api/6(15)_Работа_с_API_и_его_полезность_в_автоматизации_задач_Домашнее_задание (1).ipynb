{
  "nbformat": 4,
  "nbformat_minor": 0,
  "metadata": {
    "colab": {
      "provenance": []
    },
    "kernelspec": {
      "display_name": "Python 3",
      "language": "python",
      "name": "python3"
    },
    "language_info": {
      "codemirror_mode": {
        "name": "ipython",
        "version": 3
      },
      "file_extension": ".py",
      "mimetype": "text/x-python",
      "name": "python",
      "nbconvert_exporter": "python",
      "pygments_lexer": "ipython3",
      "version": "3.8.8"
    },
    "toc": {
      "base_numbering": 1,
      "nav_menu": {},
      "number_sections": true,
      "sideBar": true,
      "skip_h1_title": false,
      "title_cell": "Table of Contents",
      "title_sidebar": "Contents",
      "toc_cell": false,
      "toc_position": {},
      "toc_section_display": true,
      "toc_window_display": false
    }
  },
  "cells": [
    {
      "cell_type": "markdown",
      "metadata": {
        "id": "9YruChoFPlTH"
      },
      "source": [
        "**Цели:**\n",
        "1. Научиться выполнять HTTP-запросы с использованием библиотеки Requests.\n",
        "2. Научиться сохранять данные из датафрейма в файлы xlsx и csv.\n",
        "3. Научиться работать c Git и сохранять результаты своей работы в GitLab.\n"
      ]
    },
    {
      "cell_type": "markdown",
      "metadata": {
        "id": "p0t9GY6BOjpL"
      },
      "source": [
        "Продолжим работу с iTunes Search API\n",
        "Документацию к iTunes Search API можно [найти здесь](https://developer.apple.com/library/archive/documentation/AudioVideo/Conceptual/iTuneSearchAPI/Searching.html#//apple_ref/doc/uid/TP40017632-CH5-SW1)"
      ]
    },
    {
      "cell_type": "markdown",
      "metadata": {
        "id": "kr8Q_RUzOjpM"
      },
      "source": [
        "**Задача 1**\n",
        "\n",
        "Импортируйте библиотеки, необходимые для дальнейшей работы"
      ]
    },
    {
      "cell_type": "code",
      "source": [
        "# Ваш код здесь"
      ],
      "metadata": {
        "id": "dAdc0iL7E7DM"
      },
      "execution_count": null,
      "outputs": []
    },
    {
      "cell_type": "markdown",
      "source": [
        "**Задача 2**\n",
        "\n",
        "1. Выполните GET-запрос https://itunes.apple.com/lookup?id=518462 и распечатайте ответ в формате json."
      ],
      "metadata": {
        "id": "JP6HcqhSE7aD"
      }
    },
    {
      "cell_type": "code",
      "metadata": {
        "ExecuteTime": {
          "end_time": "2021-10-24T10:55:47.101496Z",
          "start_time": "2021-10-24T10:55:47.098939Z"
        },
        "id": "hLC8F1acOjpN"
      },
      "source": [
        "# Ваш код здесь"
      ],
      "execution_count": null,
      "outputs": []
    },
    {
      "cell_type": "markdown",
      "metadata": {
        "id": "J1YHZdzPQVlR"
      },
      "source": [
        "2. Распечатайте код ответа."
      ]
    },
    {
      "cell_type": "code",
      "metadata": {
        "id": "Eto3BcM2QVlR"
      },
      "source": [
        "# Ваш код здесь"
      ],
      "execution_count": null,
      "outputs": []
    },
    {
      "cell_type": "markdown",
      "metadata": {
        "id": "LcpYxnZsQVlT"
      },
      "source": [
        "3. Распечатайте строку запроса.\n",
        "\n",
        "    _Подсказка:_ строку запроса можно распечатать с помощью метода `url`."
      ]
    },
    {
      "cell_type": "code",
      "metadata": {
        "ExecuteTime": {
          "end_time": "2021-11-15T22:58:07.910280Z",
          "start_time": "2021-11-15T22:58:07.907016Z"
        },
        "id": "HEivops6QVlT"
      },
      "source": [
        "# Ваш код здесь"
      ],
      "execution_count": null,
      "outputs": []
    },
    {
      "cell_type": "markdown",
      "metadata": {
        "id": "QxZUUuH_QVlU"
      },
      "source": [
        "4. Сохраните в переменную `amg_artist_id` значение `amgArtistId` полученного ответа и распечатайте его."
      ]
    },
    {
      "cell_type": "code",
      "metadata": {
        "ExecuteTime": {
          "end_time": "2021-11-15T23:14:37.737599Z",
          "start_time": "2021-11-15T23:14:37.734887Z"
        },
        "id": "jH9rOE3UQVlU"
      },
      "source": [
        "# Ваш код здесь"
      ],
      "execution_count": null,
      "outputs": []
    },
    {
      "cell_type": "markdown",
      "metadata": {
        "id": "cViBXi62OjpP"
      },
      "source": [
        "***Задача 4***\n",
        "\n",
        "1. Выполните POST-запрос к к ресурсу `lookup`, чтобы найти первые 100 записей, содержащих альбомы для артиста с `amgArtistId`, равного  полученному ранее `amg_artist_id`. Укажите время ожидания запроса 60 секунд и распечатайте ответ в формате json.\n"
      ]
    },
    {
      "cell_type": "code",
      "metadata": {
        "ExecuteTime": {
          "end_time": "2021-10-24T10:41:11.069411Z",
          "start_time": "2021-10-24T10:41:11.066371Z"
        },
        "id": "Tx2VYklzOjpQ"
      },
      "source": [
        "# Ваш код здесь"
      ],
      "execution_count": null,
      "outputs": []
    },
    {
      "cell_type": "markdown",
      "metadata": {
        "id": "cylUKYQlQVlW"
      },
      "source": [
        "2. Выведите количество записей в ответе."
      ]
    },
    {
      "cell_type": "code",
      "metadata": {
        "id": "rsTsbuGXQVlW"
      },
      "source": [
        "# Ваш код здесь"
      ],
      "execution_count": null,
      "outputs": []
    },
    {
      "cell_type": "markdown",
      "metadata": {
        "id": "5wqZG58CQVlX"
      },
      "source": [
        "3. Посмотрите внимательно на список с записями и обратите внимание, что мы запрашивали 100 альбомов, то есть на одну запись меньше, чем нам показал счётчик.\n",
        "**Ответьте, в чём причина:**"
      ]
    },
    {
      "cell_type": "markdown",
      "metadata": {
        "id": "m95_sBKnQVlX"
      },
      "source": [
        "***Задача 5***\n",
        "\n",
        "1. С учётом ответа на предыдущий вопрос разделите список на два списка:\n",
        "- `data1` — альбомы с 1 по 30,\n",
        "- `data2` — оставшиеся альбомы.\n",
        "\n",
        "    Распечатайте количество элементов в каждом списке."
      ]
    },
    {
      "cell_type": "code",
      "metadata": {
        "id": "HbEGYYySQVlY"
      },
      "source": [
        "# Ваш код здесь"
      ],
      "execution_count": null,
      "outputs": []
    },
    {
      "cell_type": "markdown",
      "metadata": {
        "id": "f6KP2YUgQVlY"
      },
      "source": [
        "2. Создайте датафрейм `df1` на основе списка `data1` и распечатайте его, а затем запишите его на лист `albums` в файл `30_albums.xlsx` в директории проекта `api/practice/data`. Не забудьте перед этим создать нужную директорию.\n"
      ]
    },
    {
      "cell_type": "code",
      "metadata": {
        "id": "U5SYJKUZQVlZ"
      },
      "source": [
        "# Ваш код здесь"
      ],
      "execution_count": null,
      "outputs": []
    },
    {
      "cell_type": "markdown",
      "metadata": {
        "id": "OQQmF0xoiljN"
      },
      "source": [
        "Для удобства переиспользования путь к папке с данными удобно вынести в отдельную переменную. Оставьте текущий путь в `path` или пропишите полный путь от директории, в которой запущен Jupyter Notebook."
      ]
    },
    {
      "cell_type": "code",
      "metadata": {
        "id": "5B1BAWrSiIfi"
      },
      "source": [
        "# Ваш код здесь"
      ],
      "execution_count": null,
      "outputs": []
    },
    {
      "cell_type": "markdown",
      "metadata": {
        "id": "OSFeJcPbQVla"
      },
      "source": [
        "3. Создайте датафрейм `df2` на основе списка `data2` и распечатайте его, а затем запишите его в файл `70_albums.csv` в директории проекта `api/practice/data`, указав в качестве разделителя знак табуляции."
      ]
    },
    {
      "cell_type": "code",
      "metadata": {
        "id": "zOiTPTSBQVla"
      },
      "source": [
        "# Ваш код здесь"
      ],
      "execution_count": null,
      "outputs": []
    },
    {
      "cell_type": "markdown",
      "metadata": {
        "id": "7kLcc_RZbKbh"
      },
      "source": [
        "**Задача 6**\n",
        "\n",
        "Попробуйте сформировать запросы к [iTunes Search API](https://affiliate.itunes.apple.com/resources/documentation/itunes-store-web-service-search-api/) таким образом, чтобы получить статусы ответов, отличные от 200. Например, 400 и 404. Распечатайте коды статусов для каждого запроса.\n",
        "\n",
        "_Подсказка:_ воспользуйтесь [шпаргалкой по кодам ответа HTTP](https://developer.mozilla.org/ru/docs/Web/HTTP/Status), чтобы понять, как следует изменить запрос, чтобы сервер вернул определённую ошибку в ответе.\n"
      ]
    },
    {
      "cell_type": "code",
      "metadata": {
        "id": "aZgIKhLObI-k"
      },
      "source": [
        "# Ваш код здесь"
      ],
      "execution_count": null,
      "outputs": []
    }
  ]
}