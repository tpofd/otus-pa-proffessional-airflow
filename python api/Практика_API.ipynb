{
  "nbformat": 4,
  "nbformat_minor": 0,
  "metadata": {
    "colab": {
      "provenance": []
    },
    "kernelspec": {
      "name": "python3",
      "display_name": "Python 3"
    },
    "language_info": {
      "name": "python"
    }
  },
  "cells": [
    {
      "cell_type": "code",
      "source": [
        "!pip install requests"
      ],
      "metadata": {
        "colab": {
          "base_uri": "https://localhost:8080/"
        },
        "id": "gYNmnR4ZgFcw",
        "outputId": "474e57ba-e248-493e-9585-0df1010ecb0c"
      },
      "execution_count": 3,
      "outputs": [
        {
          "output_type": "stream",
          "name": "stdout",
          "text": [
            "Requirement already satisfied: requests in /usr/local/lib/python3.10/dist-packages (2.32.3)\n",
            "Requirement already satisfied: charset-normalizer<4,>=2 in /usr/local/lib/python3.10/dist-packages (from requests) (3.4.0)\n",
            "Requirement already satisfied: idna<4,>=2.5 in /usr/local/lib/python3.10/dist-packages (from requests) (3.10)\n",
            "Requirement already satisfied: urllib3<3,>=1.21.1 in /usr/local/lib/python3.10/dist-packages (from requests) (2.2.3)\n",
            "Requirement already satisfied: certifi>=2017.4.17 in /usr/local/lib/python3.10/dist-packages (from requests) (2024.8.30)\n"
          ]
        }
      ]
    },
    {
      "cell_type": "code",
      "source": [
        "import requests\n",
        "import pandas as pd\n",
        "import json"
      ],
      "metadata": {
        "id": "LfWMpzMMgARV"
      },
      "execution_count": 4,
      "outputs": []
    },
    {
      "cell_type": "code",
      "execution_count": 36,
      "metadata": {
        "id": "H-AS1RQ5XFWf"
      },
      "outputs": [],
      "source": [
        "# API get itunes\n",
        "url = 'https://itunes.apple.com/search'\n",
        "params = {'media': 'music', 'term': 'manizha', 'limit': 30}\n",
        "\n",
        "response = requests.get(url, params)"
      ]
    },
    {
      "cell_type": "code",
      "source": [
        "response = requests.get('https://itunes.apple.com/search?media=music&term=manizha&limit=30')"
      ],
      "metadata": {
        "id": "drLdYJe6j292"
      },
      "execution_count": 48,
      "outputs": []
    },
    {
      "cell_type": "code",
      "source": [
        "response.text"
      ],
      "metadata": {
        "colab": {
          "base_uri": "https://localhost:8080/",
          "height": 178
        },
        "id": "saWtC_kfi93s",
        "outputId": "76a98aeb-7a39-4b65-b472-8c5af43a4ee4"
      },
      "execution_count": 35,
      "outputs": [
        {
          "output_type": "execute_result",
          "data": {
            "text/plain": [
              "'\\n\\n\\n{\\n \"resultCount\":36,\\n \"results\": [\\n{\"wrapperType\":\"track\", \"kind\":\"song\", \"artistId\":657767063, \"collectionId\":1558497187, \"trackId\":1558497274, \"artistName\":\"Manizha\", \"collectionName\":\"RUSSIAN WOMAN - Single\", \"trackName\":\"RUSSIAN WOMAN\", \"collectionCensoredName\":\"RUSSIAN WOMAN - Single\", \"trackCensoredName\":\"RUSSIAN WOMAN\", \"artistViewUrl\":\"https://music.apple.com/us/artist/manizha/657767063?uo=4\", \"collectionViewUrl\":\"https://music.apple.com/us/album/russian-woman/1558497187?i=1558497274&uo=4\", \"trackViewUrl\":\"https://music.apple.com/us/album/russian-woman/1558497187?i=1558497274&uo=4\", \\n\"previewUrl\":\"https://audio-ssl.itunes.apple.com/itunes-assets/AudioPreview116/v4/de/9e/6f/de9e6f41-feb3-95b9-c870-99e1b063efa6/mzaf_15150561003557477931.plus.aac.p.m4a\", \"artworkUrl30\":\"https://is1-ssl.mzstatic.com/image/thumb/Music125/v4/40/19/24/40192403-542f-63b2-a82e-508db809c036/196006322038.jpg/30x30bb.jpg\", \"artworkUrl60\":\"https://is1-ssl.mzstatic.com/image/thumb/Music125/v4/40/19/24/40192403-542f-63b2-a82e-508db809c036/196006322038.jpg/60x60bb.jpg\", \"artworkUrl100\":\"https://is1-ssl.mzstatic.com/image/thumb/Music125/v4/40/19/24/40192403-542f-63b2-a82e-508db809c036/196006322038.jpg/100x100bb.jpg\", \"collectionPrice\":0.99, \"trackPrice\":0.99, \"releaseDate\":\"2021-03-19T12:00:00Z\", \"collectionExplicitness\":\"notExplicit\", \"trackExplicitness\":\"notExplicit\", \"discCount\":1, \"discNumber\":1, \"trackCount\":1, \"trackNumber\":1, \"trackTimeMillis\":176878, \"country\":\"USA\", \"currency\":\"USD\", \"primaryGenreName\":\"Pop\", \"isStreamable\":true}, \\n{\"wrapperType\":\"track\", \"kind\":\"song\", \"artistId\":657767063, \"collectionId\":1205132086, \"trackId\":1205132092, \"artistName\":\"Manizha\", \"collectionName\":\"Manuscript\", \"trackName\":\"New Love\", \"collectionCensoredName\":\"Manuscript\", \"trackCensoredName\":\"New Love\", \"artistViewUrl\":\"https://music.apple.com/us/artist/manizha/657767063?uo=4\", \"collectionViewUrl\":\"https://music.apple.com/us/album/new-love/1205132086?i=1205132092&uo=4\", \"trackViewUrl\":\"https://music.apple.com/us/album/new-love/1205132086?i=1205132092&uo=4\", \\n\"previewUrl\":\"https://audio-ssl.itunes.apple.com/itunes-assets/AudioPreview115/v4/ae/4f/a6/ae4fa6d8-bc8a-8a44-cd19-2cffab210b9d/mzaf_6684273648622286941.plus.aac.p.m4a\", \"artworkUrl30\":\"https://is1-ssl.mzstatic.com/image/thumb/Music115/v4/2b/a1/52/2ba152d9-2e02-8a6c-91ef-b15344aef80e/191018850258.jpg/30x30bb.jpg\", \"artworkUrl60\":\"https://is1-ssl.mzstatic.com/image/thumb/Music115/v4/2b/a1/52/2ba152d9-2e02-8a6c-91ef-b15344aef80e/191018850258.jpg/60x60bb.jpg\", \"artworkUrl100\":\"https://is1-ssl.mzstatic.com/image/thumb/Music115/v4/2b/a1/52/2ba152d9-2e02-8a6c-91ef-b15344aef80e/191018850258.jpg/100x100bb.jpg\", \"collectionPrice\":9.03, \"trackPrice\":1.29, \"releaseDate\":\"2017-02-17T12:00:00Z\", \"collectionExplicitness\":\"notExplicit\", \"trackExplicitness\":\"notExplicit\", \"discCount\":1, \"discNumber\":1, \"trackCount\":7, \"trackNumber\":5, \"trackTimeMillis\":171720, \"country\":\"USA\", \"currency\":\"USD\", \"primaryGenreName\":\"Pop\", \"isStreamable\":true}, \\n{\"wrapperType\":\"track\", \"kind\":\"song\", \"artistId\":657767063, \"collectionId\":1351117795, \"trackId\":1351118535, \"artistName\":\"Manizha\", \"collectionName\":\"ЯIAM\", \"trackName\":\"дом\", \"collectionCensoredName\":\"ЯIAM\", \"trackCensoredName\":\"дом\", \"artistViewUrl\":\"https://music.apple.com/us/artist/manizha/657767063?uo=4\", \"collectionViewUrl\":\"https://music.apple.com/us/album/%D0%B4%D0%BE%D0%BC/1351117795?i=1351118535&uo=4\", \"trackViewUrl\":\"https://music.apple.com/us/album/%D0%B4%D0%BE%D0%BC/1351117795?i=1351118535&uo=4\", \\n\"previewUrl\":\"https://audio-ssl.itunes.apple.com/itunes-assets/AudioPreview115/v4/45/ad/9b/45ad9b77-a15e-eb99-640f-ef57121b24e9/mzaf_5471962783479802342.plus.aac.p.m4a\", \"artworkUrl30\":\"https://is1-ssl.mzstatic.com/image/thumb/Music118/v4/b3/6b/26/b36b26b4-e5e0-1aaf-ae82-10919072cb91/192562222737.jpg/30x30bb.jpg\", \"artworkUrl60\":\"https://is1-ssl.mzstatic.com/image/thumb/Music118/v4/b3/6b/26/b36b26b4-e5e0-1aaf-ae82-10919072cb91/192562222737.jpg/60x60bb.jpg\", \"artworkUrl100\":\"https://is1-ssl.mzstatic.com/image/thumb/Music118/v4/b3/6b/26/b36b26b4-e5e0-1aaf-ae82-10919072cb91/192562222737.jpg/100x100bb.jpg\", \"collectionPrice\":10.32, \"trackPrice\":1.29, \"releaseDate\":\"2018-03-23T12:00:00Z\", \"collectionExplicitness\":\"notExplicit\", \"trackExplicitness\":\"notExplicit\", \"discCount\":1, \"discNumber\":1, \"trackCount\":8, \"trackNumber\":3, \"trackTimeMillis\":230400, \"country\":\"USA\", \"currency\":\"USD\", \"primaryGenreName\":\"Vocal\", \"isStreamable\":true}, \\n{\"wrapperType\":\"track\", \"kind\":\"song\", \"artistId\":657767063, \"collectionId\":1205132086, \"trackId\":1205132087, \"artistName\":\"Manizha\", \"collectionName\":\"Manuscript\", \"trackName\":\"Don\\'t Tell Me\", \"collectionCensoredName\":\"Manuscript\", \"trackCensoredName\":\"Don\\'t Tell Me\", \"artistViewUrl\":\"https://music.apple.com/us/artist/manizha/657767063?uo=4\", \"collectionViewUrl\":\"https://music.apple.com/us/album/dont-tell-me/1205132086?i=1205132087&uo=4\", \"trackViewUrl\":\"https://music.apple.com/us/album/dont-tell-me/1205132086?i=1205132087&uo=4\", \\n\"previewUrl\":\"https://audio-ssl.itunes.apple.com/itunes-assets/AudioPreview115/v4/87/e1/12/87e112c8-46db-a3af-e16f-95f5f4960e5e/mzaf_5111801899726099744.plus.aac.p.m4a\", \"artworkUrl30\":\"https://is1-ssl.mzstatic.com/image/thumb/Music115/v4/2b/a1/52/2ba152d9-2e02-8a6c-91ef-b15344aef80e/191018850258.jpg/30x30bb.jpg\", \"artworkUrl60\":\"https://is1-ssl.mzstatic.com/image/thumb/Music115/v4/2b/a1/52/2ba152d9-2e02-8a6c-91ef-b15344aef80e/191018850258.jpg/60x60bb.jpg\", \"artworkUrl100\":\"https://is1-ssl.mzstatic.com/image/thumb/Music115/v4/2b/a1/52/2ba152d9-2e02-8a6c-91ef-b15344aef80e/191018850258.jpg/100x100bb.jpg\", \"collectionPrice\":9.03, \"trackPrice\":1.29, \"releaseDate\":\"2017-02-17T12:00:00Z\", \"collectionExplicitness\":\"notExplicit\", \"trackExplicitness\":\"notExplicit\", \"discCount\":1, \"discNumber\":1, \"trackCount\":7, \"trackNumber\":1, \"trackTimeMillis\":210200, \"country\":\"USA\", \"currency\":\"USD\", \"primaryGenreName\":\"Pop\", \"isStreamable\":true}, \\n{\"wrapperType\":\"track\", \"kind\":\"song\", \"artistId\":657767063, \"collectionId\":1351117795, \"trackId\":1351119010, \"artistName\":\"Manizha\", \"collectionName\":\"ЯIAM\", \"trackName\":\"устал (bonus track)\", \"collectionCensoredName\":\"ЯIAM\", \"trackCensoredName\":\"устал (bonus track)\", \"artistViewUrl\":\"https://music.apple.com/us/artist/manizha/657767063?uo=4\", \"collectionViewUrl\":\"https://music.apple.com/us/album/%D1%83%D1%81%D1%82%D0%B0%D0%BB-bonus-track/1351117795?i=1351119010&uo=4\", \"trackViewUrl\":\"https://music.apple.com/us/album/%D1%83%D1%81%D1%82%D0%B0%D0%BB-bonus-track/1351117795?i=1351119010&uo=4\", \\n\"previewUrl\":\"https://audio-ssl.itunes.apple.com/itunes-assets/AudioPreview125/v4/c0/90/fa/c090fa78-32f6-4ae1-b20f-7a615941ee13/mzaf_17736086973153687589.plus.aac.p.m4a\", \"artworkUrl30\":\"https://is1-ssl.mzstatic.com/image/thumb/Music118/v4/b3/6b/26/b36b26b4-e5e0-1aaf-ae82-10919072cb91/192562222737.jpg/30x30bb.jpg\", \"artworkUrl60\":\"https://is1-ssl.mzstatic.com/image/thumb/Music118/v4/b3/6b/26/b36b26b4-e5e0-1aaf-ae82-10919072cb91/192562222737.jpg/60x60bb.jpg\", \"artworkUrl100\":\"https://is1-ssl.mzstatic.com/image/thumb/Music118/v4/b3/6b/26/b36b26b4-e5e0-1aaf-ae82-10919072cb91/192562222737.jpg/100x100bb.jpg\", \"collectionPrice\":10.32, \"trackPrice\":1.29, \"releaseDate\":\"2018-03-23T12:00:00Z\", \"collectionExplicitness\":\"notExplicit\", \"trackExplicitness\":\"notExplicit\", \"discCount\":1, \"discNumber\":1, \"trackCount\":8, \"trackNumber\":8, \"trackTimeMillis\":233684, \"country\":\"USA\", \"currency\":\"USD\", \"primaryGenreName\":\"Vocal\", \"isStreamable\":true}, \\n{\"wrapperType\":\"track\", \"kind\":\"song\", \"artistId\":657767063, \"collectionId\":1351117795, \"trackId\":1351118539, \"artistName\":\"Manizha\", \"collectionName\":\"ЯIAM\", \"trackName\":\"чувство\", \"collectionCensoredName\":\"ЯIAM\", \"trackCensoredName\":\"чувство\", \"artistViewUrl\":\"https://music.apple.com/us/artist/manizha/657767063?uo=4\", \"collectionViewUrl\":\"https://music.apple.com/us/album/%D1%87%D1%83%D0%B2%D1%81%D1%82%D0%B2%D0%BE/1351117795?i=1351118539&uo=4\", \"trackViewUrl\":\"https://music.apple.com/us/album/%D1%87%D1%83%D0%B2%D1%81%D1%82%D0%B2%D0%BE/1351117795?i=1351118539&uo=4\", \\n\"previewUrl\":\"https://audio-ssl.itunes.apple.com/itunes-assets/AudioPreview125/v4/aa/20/dd/aa20dd3b-c5d0-edb5-a546-301b35fd65ad/mzaf_10720255108024387308.plus.aac.p.m4a\", \"artworkUrl30\":\"https://is1-ssl.mzstatic.com/image/thumb/Music118/v4/b3/6b/26/b36b26b4-e5e0-1aaf-ae82-10919072cb91/192562222737.jpg/30x30bb.jpg\", \"artworkUrl60\":\"https://is1-ssl.mzstatic.com/image/thumb/Music118/v4/b3/6b/26/b36b26b4-e5e0-1aaf-ae82-10919072cb91/192562222737.jpg/60x60bb.jpg\", \"artworkUrl100\":\"https://is1-ssl.mzstatic.com/image/thumb/Music118/v4/b3/6b/26/b36b26b4-e5e0-1aaf-ae82-10919072cb91/192562222737.jpg/100x100bb.jpg\", \"collectionPrice\":10.32, \"trackPrice\":1.29, \"releaseDate\":\"2018-03-23T12:00:00Z\", \"collectionExplicitness\":\"notExplicit\", \"trackExplicitness\":\"notExplicit\", \"discCount\":1, \"discNumber\":1, \"trackCount\":8, \"trackNumber\":5, \"trackTimeMillis\":298520, \"country\":\"USA\", \"currency\":\"USD\", \"primaryGenreName\":\"Vocal\", \"isStreamable\":true}, \\n{\"wrapperType\":\"track\", \"kind\":\"song\", \"artistId\":657767063, \"collectionId\":1351117795, \"trackId\":1351118537, \"artistName\":\"Manizha\", \"collectionName\":\"ЯIAM\", \"trackName\":\"изумруд\", \"collectionCensoredName\":\"ЯIAM\", \"trackCensoredName\":\"изумруд\", \"artistViewUrl\":\"https://music.apple.com/us/artist/manizha/657767063?uo=4\", \"collectionViewUrl\":\"https://music.apple.com/us/album/%D0%B8%D0%B7%D1%83%D0%BC%D1%80%D1%83%D0%B4/1351117795?i=1351118537&uo=4\", \"trackViewUrl\":\"https://music.apple.com/us/album/%D0%B8%D0%B7%D1%83%D0%BC%D1%80%D1%83%D0%B4/1351117795?i=1351118537&uo=4\", \\n\"previewUrl\":\"https://audio-ssl.itunes.apple.com/itunes-assets/AudioPreview115/v4/70/e2/ba/70e2ba34-7bc3-95f7-8a65-f87953590125/mzaf_3795963601057896234.plus.aac.p.m4a\", \"artworkUrl30\":\"https://is1-ssl.mzstatic.com/image/thumb/Music118/v4/b3/6b/26/b36b26b4-e5e0-1aaf-ae82-10919072cb91/192562222737.jpg/30x30bb.jpg\", \"artworkUrl60\":\"https://is1-ssl.mzstatic.com/image/thumb/Music118/v4/b3/6b/26/b36b26b4-e5e0-1aaf-ae82-10919072cb91/192562222737.jpg/60x60bb.jpg\", \"artworkUrl100\":\"https://is1-ssl.mzstatic.com/image/thumb/Music118/v4/b3/6b/26/b36b26b4-e5e0-1aaf-ae82-10919072cb91/192562222737.jpg/100x100bb.jpg\", \"collectionPrice\":10.32, \"trackPrice\":1.29, \"releaseDate\":\"2018-03-23T12:00:00Z\", \"collectionExplicitness\":\"notExplicit\", \"trackExplicitness\":\"notExplicit\", \"discCount\":1, \"discNumber\":1, \"trackCount\":8, \"trackNumber\":4, \"trackTimeMillis\":254387, \"country\":\"USA\", \"currency\":\"USD\", \"primaryGenreName\":\"Vocal\", \"isStreamable\":true}, \\n{\"wrapperType\":\"track\", \"kind\":\"song\", \"artistId\":657767063, \"collectionId\":1351117795, \"trackId\":1351118532, \"artistName\":\"Manizha\", \"collectionName\":\"ЯIAM\", \"trackName\":\"мама\", \"collectionCensoredName\":\"ЯIAM\", \"trackCensoredName\":\"мама\", \"artistViewUrl\":\"https://music.apple.com/us/artist/manizha/657767063?uo=4\", \"collectionViewUrl\":\"https://music.apple.com/us/album/%D0%BC%D0%B0%D0%BC%D0%B0/1351117795?i=1351118532&uo=4\", \"trackViewUrl\":\"https://music.apple.com/us/album/%D0%BC%D0%B0%D0%BC%D0%B0/1351117795?i=1351118532&uo=4\", \\n\"previewUrl\":\"https://audio-ssl.itunes.apple.com/itunes-assets/AudioPreview125/v4/04/af/41/04af41e5-cdd7-0571-bb53-9051dc12fe47/mzaf_12416471791564740216.plus.aac.p.m4a\", \"artworkUrl30\":\"https://is1-ssl.mzstatic.com/image/thumb/Music118/v4/b3/6b/26/b36b26b4-e5e0-1aaf-ae82-10919072cb91/192562222737.jpg/30x30bb.jpg\", \"artworkUrl60\":\"https://is1-ssl.mzstatic.com/image/thumb/Music118/v4/b3/6b/26/b36b26b4-e5e0-1aaf-ae82-10919072cb91/192562222737.jpg/60x60bb.jpg\", \"artworkUrl100\":\"https://is1-ssl.mzstatic.com/image/thumb/Music118/v4/b3/6b/26/b36b26b4-e5e0-1aaf-ae82-10919072cb91/192562222737.jpg/100x100bb.jpg\", \"collectionPrice\":10.32, \"trackPrice\":1.29, \"releaseDate\":\"2018-03-02T12:00:00Z\", \"collectionExplicitness\":\"notExplicit\", \"trackExplicitness\":\"notExplicit\", \"discCount\":1, \"discNumber\":1, \"trackCount\":8, \"trackNumber\":2, \"trackTimeMillis\":348720, \"country\":\"USA\", \"currency\":\"USD\", \"primaryGenreName\":\"Vocal\", \"isStreamable\":true}, \\n{\"wrapperType\":\"track\", \"kind\":\"song\", \"artistId\":657767063, \"collectionId\":1481887517, \"trackId\":1481887771, \"artistName\":\"Manizha\", \"collectionName\":\"Сейчас дважды не случится - Single\", \"trackName\":\"Сейчас дважды не случится\", \"collectionCensoredName\":\"Сейчас дважды не случится - Single\", \"trackCensoredName\":\"Сейчас дважды не случится\", \"artistViewUrl\":\"https://music.apple.com/us/artist/manizha/657767063?uo=4\", \\n\"collectionViewUrl\":\"https://music.apple.com/us/album/%D1%81%D0%B5%D0%B9%D1%87%D0%B0%D1%81-%D0%B4%D0%B2%D0%B0%D0%B6%D0%B4%D1%8B-%D0%BD%D0%B5-%D1%81%D0%BB%D1%83%D1%87%D0%B8%D1%82%D1%81%D1%8F/1481887517?i=1481887771&uo=4\", \\n\"trackViewUrl\":\"https://music.apple.com/us/album/%D1%81%D0%B5%D0%B9%D1%87%D0%B0%D1%81-%D0%B4%D0%B2%D0%B0%D0%B6%D0%B4%D1%8B-%D0%BD%D0%B5-%D1%81%D0%BB%D1%83%D1%87%D0%B8%D1%82%D1%81%D1%8F/1481887517?i=1481887771&uo=4\", \\n\"previewUrl\":\"https://audio-ssl.itunes.apple.com/itunes-assets/AudioPreview125/v4/d9/9e/36/d99e36a3-7845-bf49-e424-e37577ced66a/mzaf_5355219271979216028.plus.aac.p.m4a\", \"artworkUrl30\":\"https://is1-ssl.mzstatic.com/image/thumb/Music123/v4/64/b7/d4/64b7d4ec-d49f-dbe2-29b1-42940562aa87/194491429492.jpg/30x30bb.jpg\", \"artworkUrl60\":\"https://is1-ssl.mzstatic.com/image/thumb/Music123/v4/64/b7/d4/64b7d4ec-d49f-dbe2-29b1-42940562aa87/194491429492.jpg/60x60bb.jpg\", \"artworkUrl100\":\"https://is1-ssl.mzstatic.com/image/thumb/Music123/v4/64/b7/d4/64b7d4ec-d49f-dbe2-29b1-42940562aa87/194491429492.jpg/100x100bb.jpg\", \"collectionPrice\":1.29, \"trackPrice\":1.29, \"releaseDate\":\"2019-10-02T12:00:00Z\", \"collectionExplicitness\":\"notExplicit\", \"trackExplicitness\":\"notExplicit\", \"discCount\":1, \"discNumber\":1, \"trackCount\":1, \"trackNumber\":1, \"trackTimeMillis\":175926, \"country\":\"USA\", \"currency\":\"USD\", \"primaryGenreName\":\"Pop\", \"isStreamable\":true}, \\n{\"wrapperType\":\"track\", \"kind\":\"song\", \"artistId\":657767063, \"collectionId\":1351117795, \"trackId\":1351118992, \"artistName\":\"Manizha\", \"collectionName\":\"ЯIAM\", \"trackName\":\"громче слов\", \"collectionCensoredName\":\"ЯIAM\", \"trackCensoredName\":\"громче слов\", \"artistViewUrl\":\"https://music.apple.com/us/artist/manizha/657767063?uo=4\", \"collectionViewUrl\":\"https://music.apple.com/us/album/%D0%B3%D1%80%D0%BE%D0%BC%D1%87%D0%B5-%D1%81%D0%BB%D0%BE%D0%B2/1351117795?i=1351118992&uo=4\", \"trackViewUrl\":\"https://music.apple.com/us/album/%D0%B3%D1%80%D0%BE%D0%BC%D1%87%D0%B5-%D1%81%D0%BB%D0%BE%D0%B2/1351117795?i=1351118992&uo=4\", \\n\"previewUrl\":\"https://audio-ssl.itunes.apple.com/itunes-assets/AudioPreview125/v4/e1/e9/0e/e1e90e13-e38e-3fe0-9580-522b2b806cb0/mzaf_9549061701061574517.plus.aac.p.m4a\", \"artworkUrl30\":\"https://is1-ssl.mzstatic.com/image/thumb/Music118/v4/b3/6b/26/b36b26b4-e5e0-1aaf-ae82-10919072cb91/192562222737.jpg/30x30bb.jpg\", \"artworkUrl60\":\"https://is1-ssl.mzstatic.com/image/thumb/Music118/v4/b3/6b/26/b36b26b4-e5e0-1aaf-ae82-10919072cb91/192562222737.jpg/60x60bb.jpg\", \"artworkUrl100\":\"https://is1-ssl.mzstatic.com/image/thumb/Music118/v4/b3/6b/26/b36b26b4-e5e0-1aaf-ae82-10919072cb91/192562222737.jpg/100x100bb.jpg\", \"collectionPrice\":10.32, \"trackPrice\":1.29, \"releaseDate\":\"2018-03-16T12:00:00Z\", \"collectionExplicitness\":\"notExplicit\", \"trackExplicitness\":\"notExplicit\", \"discCount\":1, \"discNumber\":1, \"trackCount\":8, \"trackNumber\":6, \"trackTimeMillis\":195427, \"country\":\"USA\", \"currency\":\"USD\", \"primaryGenreName\":\"Vocal\", \"isStreamable\":true}, \\n{\"wrapperType\":\"track\", \"kind\":\"song\", \"artistId\":657767063, \"collectionId\":1205132086, \"trackId\":1205132090, \"artistName\":\"Manizha\", \"collectionName\":\"Manuscript\", \"trackName\":\"Alone\", \"collectionCensoredName\":\"Manuscript\", \"trackCensoredName\":\"Alone\", \"artistViewUrl\":\"https://music.apple.com/us/artist/manizha/657767063?uo=4\", \"collectionViewUrl\":\"https://music.apple.com/us/album/alone/1205132086?i=1205132090&uo=4\", \"trackViewUrl\":\"https://music.apple.com/us/album/alone/1205132086?i=1205132090&uo=4\", \\n\"previewUrl\":\"https://audio-ssl.itunes.apple.com/itunes-assets/AudioPreview125/v4/f6/8f/30/f68f30eb-f7e6-0dd1-de2b-f54da05354ce/mzaf_8339091639591277164.plus.aac.p.m4a\", \"artworkUrl30\":\"https://is1-ssl.mzstatic.com/image/thumb/Music115/v4/2b/a1/52/2ba152d9-2e02-8a6c-91ef-b15344aef80e/191018850258.jpg/30x30bb.jpg\", \"artworkUrl60\":\"https://is1-ssl.mzstatic.com/image/thumb/Music115/v4/2b/a1/52/2ba152d9-2e02-8a6c-91ef-b15344aef80e/191018850258.jpg/60x60bb.jpg\", \"artworkUrl100\":\"https://is1-ssl.mzstatic.com/image/thumb/Music115/v4/2b/a1/52/2ba152d9-2e02-8a6c-91ef-b15344aef80e/191018850258.jpg/100x100bb.jpg\", \"collectionPrice\":9.03, \"trackPrice\":1.29, \"releaseDate\":\"2017-02-17T12:00:00Z\", \"collectionExplicitness\":\"notExplicit\", \"trackExplicitness\":\"notExplicit\", \"discCount\":1, \"discNumber\":1, \"trackCount\":7, \"trackNumber\":4, \"trackTimeMillis\":214640, \"country\":\"USA\", \"currency\":\"USD\", \"primaryGenreName\":\"Pop\", \"isStreamable\":true}, \\n{\"wrapperType\":\"track\", \"kind\":\"song\", \"artistId\":657767063, \"collectionId\":1351117795, \"trackId\":1351117801, \"artistName\":\"Manizha\", \"collectionName\":\"ЯIAM\", \"trackName\":\"начинается с\", \"collectionCensoredName\":\"ЯIAM\", \"trackCensoredName\":\"начинается с\", \"artistViewUrl\":\"https://music.apple.com/us/artist/manizha/657767063?uo=4\", \"collectionViewUrl\":\"https://music.apple.com/us/album/%D0%BD%D0%B0%D1%87%D0%B8%D0%BD%D0%B0%D0%B5%D1%82%D1%81%D1%8F-%D1%81/1351117795?i=1351117801&uo=4\", \"trackViewUrl\":\"https://music.apple.com/us/album/%D0%BD%D0%B0%D1%87%D0%B8%D0%BD%D0%B0%D0%B5%D1%82%D1%81%D1%8F-%D1%81/1351117795?i=1351117801&uo=4\", \\n\"previewUrl\":\"https://audio-ssl.itunes.apple.com/itunes-assets/AudioPreview115/v4/40/a7/46/40a746bf-c137-8b22-97ae-6db9fa540aee/mzaf_776772232129524283.plus.aac.p.m4a\", \"artworkUrl30\":\"https://is1-ssl.mzstatic.com/image/thumb/Music118/v4/b3/6b/26/b36b26b4-e5e0-1aaf-ae82-10919072cb91/192562222737.jpg/30x30bb.jpg\", \"artworkUrl60\":\"https://is1-ssl.mzstatic.com/image/thumb/Music118/v4/b3/6b/26/b36b26b4-e5e0-1aaf-ae82-10919072cb91/192562222737.jpg/60x60bb.jpg\", \"artworkUrl100\":\"https://is1-ssl.mzstatic.com/image/thumb/Music118/v4/b3/6b/26/b36b26b4-e5e0-1aaf-ae82-10919072cb91/192562222737.jpg/100x100bb.jpg\", \"collectionPrice\":10.32, \"trackPrice\":1.29, \"releaseDate\":\"2018-03-23T12:00:00Z\", \"collectionExplicitness\":\"notExplicit\", \"trackExplicitness\":\"notExplicit\", \"discCount\":1, \"discNumber\":1, \"trackCount\":8, \"trackNumber\":1, \"trackTimeMillis\":218880, \"country\":\"USA\", \"currency\":\"USD\", \"primaryGenreName\":\"Vocal\", \"isStreamable\":true}, \\n{\"wrapperType\":\"track\", \"kind\":\"song\", \"artistId\":657767063, \"collectionId\":1205132086, \"trackId\":1205132105, \"artistName\":\"Manizha\", \"collectionName\":\"Manuscript\", \"trackName\":\"I Love Too Much\", \"collectionCensoredName\":\"Manuscript\", \"trackCensoredName\":\"I Love Too Much\", \"artistViewUrl\":\"https://music.apple.com/us/artist/manizha/657767063?uo=4\", \"collectionViewUrl\":\"https://music.apple.com/us/album/i-love-too-much/1205132086?i=1205132105&uo=4\", \"trackViewUrl\":\"https://music.apple.com/us/album/i-love-too-much/1205132086?i=1205132105&uo=4\", \\n\"previewUrl\":\"https://audio-ssl.itunes.apple.com/itunes-assets/AudioPreview125/v4/49/ba/46/49ba4653-5b4f-6b71-b0ea-2f3ac1066114/mzaf_14496771185661097374.plus.aac.p.m4a\", \"artworkUrl30\":\"https://is1-ssl.mzstatic.com/image/thumb/Music115/v4/2b/a1/52/2ba152d9-2e02-8a6c-91ef-b15344aef80e/191018850258.jpg/30x30bb.jpg\", \"artworkUrl60\":\"https://is1-ssl.mzstatic.com/image/thumb/Music115/v4/2b/a1/52/2ba152d9-2e02-8a6c-91ef-b15344aef80e/191018850258.jpg/60x60bb.jpg\", \"artworkUrl100\":\"https://is1-ssl.mzstatic.com/image/thumb/Music115/v4/2b/a1/52/2ba152d9-2e02-8a6c-91ef-b15344aef80e/191018850258.jpg/100x100bb.jpg\", \"collectionPrice\":9.03, \"trackPrice\":1.29, \"releaseDate\":\"2017-02-17T12:00:00Z\", \"collectionExplicitness\":\"notExplicit\", \"trackExplicitness\":\"notExplicit\", \"discCount\":1, \"discNumber\":1, \"trackCount\":7, \"trackNumber\":7, \"trackTimeMillis\":195880, \"country\":\"USA\", \"currency\":\"USD\", \"primaryGenreName\":\"Pop\", \"isStreamable\":true}, \\n{\"wrapperType\":\"track\", \"kind\":\"song\", \"artistId\":657767063, \"collectionId\":1488143576, \"trackId\":1488144018, \"artistName\":\"Manizha\", \"collectionName\":\"НЕДОСЛАВЯНКА - Single\", \"trackName\":\"НЕДОСЛАВЯНКА\", \"collectionCensoredName\":\"НЕДОСЛАВЯНКА - Single\", \"trackCensoredName\":\"НЕДОСЛАВЯНКА\", \"artistViewUrl\":\"https://music.apple.com/us/artist/manizha/657767063?uo=4\", \"collectionViewUrl\":\"https://music.apple.com/us/album/%D0%BD%D0%B5%D0%B4%D0%BE%D1%81%D0%BB%D0%B0%D0%B2%D1%8F%D0%BD%D0%BA%D0%B0/1488143576?i=1488144018&uo=4\", \"trackViewUrl\":\"https://music.apple.com/us/album/%D0%BD%D0%B5%D0%B4%D0%BE%D1%81%D0%BB%D0%B0%D0%B2%D1%8F%D0%BD%D0%BA%D0%B0/1488143576?i=1488144018&uo=4\", \\n\"previewUrl\":\"https://audio-ssl.itunes.apple.com/itunes-assets/AudioPreview115/v4/f6/3b/0b/f63b0b0f-12ad-3b8f-1b3e-b250966d016c/mzaf_14184682848587670123.plus.aac.p.m4a\", \"artworkUrl30\":\"https://is1-ssl.mzstatic.com/image/thumb/Music113/v4/db/fa/84/dbfa8408-32d2-d05c-33ef-feb766f4d14d/194491639891.jpg/30x30bb.jpg\", \"artworkUrl60\":\"https://is1-ssl.mzstatic.com/image/thumb/Music113/v4/db/fa/84/dbfa8408-32d2-d05c-33ef-feb766f4d14d/194491639891.jpg/60x60bb.jpg\", \"artworkUrl100\":\"https://is1-ssl.mzstatic.com/image/thumb/Music113/v4/db/fa/84/dbfa8408-32d2-d05c-33ef-feb766f4d14d/194491639891.jpg/100x100bb.jpg\", \"collectionPrice\":1.29, \"trackPrice\":1.29, \"releaseDate\":\"2019-11-22T12:00:00Z\", \"collectionExplicitness\":\"notExplicit\", \"trackExplicitness\":\"notExplicit\", \"discCount\":1, \"discNumber\":1, \"trackCount\":1, \"trackNumber\":1, \"trackTimeMillis\":184794, \"country\":\"USA\", \"currency\":\"USD\", \"primaryGenreName\":\"Pop\", \"isStreamable\":true}, \\n{\"wrapperType\":\"track\", \"kind\":\"song\", \"artistId\":657767063, \"collectionId\":1205132086, \"trackId\":1205132089, \"artistName\":\"Manizha\", \"collectionName\":\"Manuscript\", \"trackName\":\"Africa (feat. Boogrov)\", \"collectionCensoredName\":\"Manuscript\", \"trackCensoredName\":\"Africa (feat. Boogrov)\", \"artistViewUrl\":\"https://music.apple.com/us/artist/manizha/657767063?uo=4\", \"collectionViewUrl\":\"https://music.apple.com/us/album/africa-feat-boogrov/1205132086?i=1205132089&uo=4\", \"trackViewUrl\":\"https://music.apple.com/us/album/africa-feat-boogrov/1205132086?i=1205132089&uo=4\", \\n\"previewUrl\":\"https://audio-ssl.itunes.apple.com/itunes-assets/AudioPreview115/v4/bf/bf/1c/bfbf1c86-bbe2-e42e-e6d7-8cc5186eca07/mzaf_13240912247193847783.plus.aac.p.m4a\", \"artworkUrl30\":\"https://is1-ssl.mzstatic.com/image/thumb/Music115/v4/2b/a1/52/2ba152d9-2e02-8a6c-91ef-b15344aef80e/191018850258.jpg/30x30bb.jpg\", \"artworkUrl60\":\"https://is1-ssl.mzstatic.com/image/thumb/Music115/v4/2b/a1/52/2ba152d9-2e02-8a6c-91ef-b15344aef80e/191018850258.jpg/60x60bb.jpg\", \"artworkUrl100\":\"https://is1-ssl.mzstatic.com/image/thumb/Music115/v4/2b/a1/52/2ba152d9-2e02-8a6c-91ef-b15344aef80e/191018850258.jpg/100x100bb.jpg\", \"collectionPrice\":9.03, \"trackPrice\":1.29, \"releaseDate\":\"2017-02-17T12:00:00Z\", \"collectionExplicitness\":\"notExplicit\", \"trackExplicitness\":\"notExplicit\", \"discCount\":1, \"discNumber\":1, \"trackCount\":7, \"trackNumber\":3, \"trackTimeMillis\":320133, \"country\":\"USA\", \"currency\":\"USD\", \"primaryGenreName\":\"Pop\", \"isStreamable\":true}, \\n{\"wrapperType\":\"track\", \"kind\":\"song\", \"artistId\":657767063, \"collectionId\":1351117795, \"trackId\":1351119000, \"artistName\":\"Manizha\", \"collectionName\":\"ЯIAM\", \"trackName\":\"я\", \"collectionCensoredName\":\"ЯIAM\", \"trackCensoredName\":\"я\", \"artistViewUrl\":\"https://music.apple.com/us/artist/manizha/657767063?uo=4\", \"collectionViewUrl\":\"https://music.apple.com/us/album/%D1%8F/1351117795?i=1351119000&uo=4\", \"trackViewUrl\":\"https://music.apple.com/us/album/%D1%8F/1351117795?i=1351119000&uo=4\", \\n\"previewUrl\":\"https://audio-ssl.itunes.apple.com/itunes-assets/AudioPreview125/v4/2c/0f/46/2c0f464b-278f-a099-3616-e4bfe910a8ff/mzaf_5402349751495034477.plus.aac.p.m4a\", \"artworkUrl30\":\"https://is1-ssl.mzstatic.com/image/thumb/Music118/v4/b3/6b/26/b36b26b4-e5e0-1aaf-ae82-10919072cb91/192562222737.jpg/30x30bb.jpg\", \"artworkUrl60\":\"https://is1-ssl.mzstatic.com/image/thumb/Music118/v4/b3/6b/26/b36b26b4-e5e0-1aaf-ae82-10919072cb91/192562222737.jpg/60x60bb.jpg\", \"artworkUrl100\":\"https://is1-ssl.mzstatic.com/image/thumb/Music118/v4/b3/6b/26/b36b26b4-e5e0-1aaf-ae82-10919072cb91/192562222737.jpg/100x100bb.jpg\", \"collectionPrice\":10.32, \"trackPrice\":1.29, \"releaseDate\":\"2018-03-23T12:00:00Z\", \"collectionExplicitness\":\"notExplicit\", \"trackExplicitness\":\"notExplicit\", \"discCount\":1, \"discNumber\":1, \"trackCount\":8, \"trackNumber\":7, \"trackTimeMillis\":185840, \"country\":\"USA\", \"currency\":\"USD\", \"primaryGenreName\":\"Vocal\", \"isStreamable\":true}, \\n{\"wrapperType\":\"track\", \"kind\":\"song\", \"artistId\":657767063, \"collectionId\":1205132086, \"trackId\":1205132088, \"artistName\":\"Manizha\", \"collectionName\":\"Manuscript\", \"trackName\":\"I Miss Him\", \"collectionCensoredName\":\"Manuscript\", \"trackCensoredName\":\"I Miss Him\", \"artistViewUrl\":\"https://music.apple.com/us/artist/manizha/657767063?uo=4\", \"collectionViewUrl\":\"https://music.apple.com/us/album/i-miss-him/1205132086?i=1205132088&uo=4\", \"trackViewUrl\":\"https://music.apple.com/us/album/i-miss-him/1205132086?i=1205132088&uo=4\", \\n\"previewUrl\":\"https://audio-ssl.itunes.apple.com/itunes-assets/AudioPreview115/v4/9f/3d/84/9f3d8446-b1aa-6ea4-efc8-9498a012ad33/mzaf_12883077704928887553.plus.aac.p.m4a\", \"artworkUrl30\":\"https://is1-ssl.mzstatic.com/image/thumb/Music115/v4/2b/a1/52/2ba152d9-2e02-8a6c-91ef-b15344aef80e/191018850258.jpg/30x30bb.jpg\", \"artworkUrl60\":\"https://is1-ssl.mzstatic.com/image/thumb/Music115/v4/2b/a1/52/2ba152d9-2e02-8a6c-91ef-b15344aef80e/191018850258.jpg/60x60bb.jpg\", \"artworkUrl100\":\"https://is1-ssl.mzstatic.com/image/thumb/Music115/v4/2b/a1/52/2ba152d9-2e02-8a6c-91ef-b15344aef80e/191018850258.jpg/100x100bb.jpg\", \"collectionPrice\":9.03, \"trackPrice\":1.29, \"releaseDate\":\"2017-02-17T12:00:00Z\", \"collectionExplicitness\":\"notExplicit\", \"trackExplicitness\":\"notExplicit\", \"discCount\":1, \"discNumber\":1, \"trackCount\":7, \"trackNumber\":2, \"trackTimeMillis\":258253, \"country\":\"USA\", \"currency\":\"USD\", \"primaryGenreName\":\"Pop\", \"isStreamable\":true}, \\n{\"wrapperType\":\"track\", \"kind\":\"song\", \"artistId\":657767063, \"collectionId\":1205132086, \"trackId\":1205132104, \"artistName\":\"Manizha\", \"collectionName\":\"Manuscript\", \"trackName\":\"Little Lady\", \"collectionCensoredName\":\"Manuscript\", \"trackCensoredName\":\"Little Lady\", \"artistViewUrl\":\"https://music.apple.com/us/artist/manizha/657767063?uo=4\", \"collectionViewUrl\":\"https://music.apple.com/us/album/little-lady/1205132086?i=1205132104&uo=4\", \"trackViewUrl\":\"https://music.apple.com/us/album/little-lady/1205132086?i=1205132104&uo=4\", \\n\"previewUrl\":\"https://audio-ssl.itunes.apple.com/itunes-assets/AudioPreview115/v4/8b/a9/47/8ba94742-9a4c-6fbe-28d1-61243ef98fe3/mzaf_8719451033333204329.plus.aac.p.m4a\", \"artworkUrl30\":\"https://is1-ssl.mzstatic.com/image/thumb/Music115/v4/2b/a1/52/2ba152d9-2e02-8a6c-91ef-b15344aef80e/191018850258.jpg/30x30bb.jpg\", \"artworkUrl60\":\"https://is1-ssl.mzstatic.com/image/thumb/Music115/v4/2b/a1/52/2ba152d9-2e02-8a6c-91ef-b15344aef80e/191018850258.jpg/60x60bb.jpg\", \"artworkUrl100\":\"https://is1-ssl.mzstatic.com/image/thumb/Music115/v4/2b/a1/52/2ba152d9-2e02-8a6c-91ef-b15344aef80e/191018850258.jpg/100x100bb.jpg\", \"collectionPrice\":9.03, \"trackPrice\":1.29, \"releaseDate\":\"2016-07-25T12:00:00Z\", \"collectionExplicitness\":\"notExplicit\", \"trackExplicitness\":\"notExplicit\", \"discCount\":1, \"discNumber\":1, \"trackCount\":7, \"trackNumber\":6, \"trackTimeMillis\":219293, \"country\":\"USA\", \"currency\":\"USD\", \"primaryGenreName\":\"Pop\", \"isStreamable\":true}, \\n{\"wrapperType\":\"track\", \"kind\":\"song\", \"artistId\":657767063, \"collectionId\":1154875239, \"trackId\":1154875392, \"artistName\":\"Manizha & Dima Ustinov\", \"collectionName\":\"Sleepy Song - Single\", \"trackName\":\"Sleepy Song\", \"collectionCensoredName\":\"Sleepy Song - Single\", \"trackCensoredName\":\"Sleepy Song\", \"artistViewUrl\":\"https://music.apple.com/us/artist/manizha/657767063?uo=4\", \"collectionViewUrl\":\"https://music.apple.com/us/album/sleepy-song/1154875239?i=1154875392&uo=4\", \"trackViewUrl\":\"https://music.apple.com/us/album/sleepy-song/1154875239?i=1154875392&uo=4\", \\n\"previewUrl\":\"https://audio-ssl.itunes.apple.com/itunes-assets/AudioPreview125/v4/5a/b3/d1/5ab3d15b-51c4-2c1e-07f7-25836061cad2/mzaf_7031795590923457889.plus.aac.p.m4a\", \"artworkUrl30\":\"https://is1-ssl.mzstatic.com/image/thumb/Music62/v4/53/74/c8/5374c874-a642-09cb-07c8-41249101fb27/859718018643_cover.jpg/30x30bb.jpg\", \"artworkUrl60\":\"https://is1-ssl.mzstatic.com/image/thumb/Music62/v4/53/74/c8/5374c874-a642-09cb-07c8-41249101fb27/859718018643_cover.jpg/60x60bb.jpg\", \"artworkUrl100\":\"https://is1-ssl.mzstatic.com/image/thumb/Music62/v4/53/74/c8/5374c874-a642-09cb-07c8-41249101fb27/859718018643_cover.jpg/100x100bb.jpg\", \"collectionPrice\":0.99, \"trackPrice\":0.99, \"releaseDate\":\"2016-08-26T12:00:00Z\", \"collectionExplicitness\":\"notExplicit\", \"trackExplicitness\":\"notExplicit\", \"discCount\":1, \"discNumber\":1, \"trackCount\":1, \"trackNumber\":1, \"trackTimeMillis\":233500, \"country\":\"USA\", \"currency\":\"USD\", \"primaryGenreName\":\"Electronic\", \"isStreamable\":true}, \\n{\"wrapperType\":\"track\", \"kind\":\"song\", \"artistId\":657767063, \"collectionId\":1460606458, \"trackId\":1460606476, \"artistName\":\"Manizha\", \"collectionName\":\"Womanizha - Single\", \"trackName\":\"I Am Who I Am\", \"collectionCensoredName\":\"Womanizha - Single\", \"trackCensoredName\":\"I Am Who I Am\", \"artistViewUrl\":\"https://music.apple.com/us/artist/manizha/657767063?uo=4\", \"collectionViewUrl\":\"https://music.apple.com/us/album/i-am-who-i-am/1460606458?i=1460606476&uo=4\", \"trackViewUrl\":\"https://music.apple.com/us/album/i-am-who-i-am/1460606458?i=1460606476&uo=4\", \\n\"previewUrl\":\"https://audio-ssl.itunes.apple.com/itunes-assets/AudioPreview125/v4/9d/78/aa/9d78aa45-01fc-9ec0-cc6a-f675c92da191/mzaf_8680289985300293052.plus.aac.p.m4a\", \"artworkUrl30\":\"https://is1-ssl.mzstatic.com/image/thumb/Music113/v4/a0/9c/4c/a09c4c06-6916-cd13-636d-371a13e0aa01/193483758350.jpg/30x30bb.jpg\", \"artworkUrl60\":\"https://is1-ssl.mzstatic.com/image/thumb/Music113/v4/a0/9c/4c/a09c4c06-6916-cd13-636d-371a13e0aa01/193483758350.jpg/60x60bb.jpg\", \"artworkUrl100\":\"https://is1-ssl.mzstatic.com/image/thumb/Music113/v4/a0/9c/4c/a09c4c06-6916-cd13-636d-371a13e0aa01/193483758350.jpg/100x100bb.jpg\", \"collectionPrice\":3.87, \"trackPrice\":1.29, \"releaseDate\":\"2019-04-26T12:00:00Z\", \"collectionExplicitness\":\"notExplicit\", \"trackExplicitness\":\"notExplicit\", \"discCount\":1, \"discNumber\":1, \"trackCount\":3, \"trackNumber\":3, \"trackTimeMillis\":303400, \"country\":\"USA\", \"currency\":\"USD\", \"primaryGenreName\":\"Pop\", \"isStreamable\":true}, \\n{\"wrapperType\":\"track\", \"kind\":\"song\", \"artistId\":657767063, \"collectionId\":1589270709, \"trackId\":1589270735, \"artistName\":\"Manizha\", \"collectionName\":\"Трибьют t.A.T.u. \\\\\"200 по встречной\\\\\"\", \"trackName\":\"Не верь, не бойся\", \"collectionCensoredName\":\"Трибьют t.A.T.u. \\\\\"200 по встречной\\\\\"\", \"trackCensoredName\":\"Не верь, не бойся\", \"collectionArtistId\":36270, \"collectionArtistName\":\"Various Artists\", \"artistViewUrl\":\"https://music.apple.com/us/artist/manizha/657767063?uo=4\", \"collectionViewUrl\":\"https://music.apple.com/us/album/%D0%BD%D0%B5-%D0%B2%D0%B5%D1%80%D1%8C-%D0%BD%D0%B5-%D0%B1%D0%BE%D0%B9%D1%81%D1%8F/1589270709?i=1589270735&uo=4\", \"trackViewUrl\":\"https://music.apple.com/us/album/%D0%BD%D0%B5-%D0%B2%D0%B5%D1%80%D1%8C-%D0%BD%D0%B5-%D0%B1%D0%BE%D0%B9%D1%81%D1%8F/1589270709?i=1589270735&uo=4\", \\n\"previewUrl\":\"https://audio-ssl.itunes.apple.com/itunes-assets/AudioPreview116/v4/9b/d9/98/9bd9981b-112a-32f6-7c55-8b5df8d4882b/mzaf_2587705684435330155.plus.aac.p.m4a\", \"artworkUrl30\":\"https://is1-ssl.mzstatic.com/image/thumb/Music125/v4/f6/ed/08/f6ed08c1-0c23-2691-e7d4-5ba5e43db7c9/cover.jpg/30x30bb.jpg\", \"artworkUrl60\":\"https://is1-ssl.mzstatic.com/image/thumb/Music125/v4/f6/ed/08/f6ed08c1-0c23-2691-e7d4-5ba5e43db7c9/cover.jpg/60x60bb.jpg\", \"artworkUrl100\":\"https://is1-ssl.mzstatic.com/image/thumb/Music125/v4/f6/ed/08/f6ed08c1-0c23-2691-e7d4-5ba5e43db7c9/cover.jpg/100x100bb.jpg\", \"collectionPrice\":15.99, \"trackPrice\":1.29, \"releaseDate\":\"2021-11-05T12:00:00Z\", \"collectionExplicitness\":\"explicit\", \"trackExplicitness\":\"notExplicit\", \"discCount\":1, \"discNumber\":1, \"trackCount\":26, \"trackNumber\":6, \"trackTimeMillis\":257707, \"country\":\"USA\", \"currency\":\"USD\", \"primaryGenreName\":\"Pop\", \"isStreamable\":true}, \\n{\"wrapperType\":\"track\", \"kind\":\"song\", \"artistId\":657767063, \"collectionId\":1439606016, \"trackId\":1439606187, \"artistName\":\"Manizha\", \"collectionName\":\"Мне легко - Single\", \"trackName\":\"Мне легко\", \"collectionCensoredName\":\"Мне легко - Single\", \"trackCensoredName\":\"Мне легко\", \"artistViewUrl\":\"https://music.apple.com/us/artist/manizha/657767063?uo=4\", \"collectionViewUrl\":\"https://music.apple.com/us/album/%D0%BC%D0%BD%D0%B5-%D0%BB%D0%B5%D0%B3%D0%BA%D0%BE/1439606016?i=1439606187&uo=4\", \"trackViewUrl\":\"https://music.apple.com/us/album/%D0%BC%D0%BD%D0%B5-%D0%BB%D0%B5%D0%B3%D0%BA%D0%BE/1439606016?i=1439606187&uo=4\", \\n\"previewUrl\":\"https://audio-ssl.itunes.apple.com/itunes-assets/AudioPreview125/v4/01/2e/d6/012ed69a-a51e-4953-e154-3f041c94c96b/mzaf_16520865069371885292.plus.aac.p.m4a\", \"artworkUrl30\":\"https://is1-ssl.mzstatic.com/image/thumb/Music118/v4/57/38/76/57387691-6e4d-520c-2b5b-85ee2d5cfe8b/193483111278.jpg/30x30bb.jpg\", \"artworkUrl60\":\"https://is1-ssl.mzstatic.com/image/thumb/Music118/v4/57/38/76/57387691-6e4d-520c-2b5b-85ee2d5cfe8b/193483111278.jpg/60x60bb.jpg\", \"artworkUrl100\":\"https://is1-ssl.mzstatic.com/image/thumb/Music118/v4/57/38/76/57387691-6e4d-520c-2b5b-85ee2d5cfe8b/193483111278.jpg/100x100bb.jpg\", \"collectionPrice\":1.29, \"trackPrice\":1.29, \"releaseDate\":\"2018-10-22T12:00:00Z\", \"collectionExplicitness\":\"notExplicit\", \"trackExplicitness\":\"notExplicit\", \"discCount\":1, \"discNumber\":1, \"trackCount\":1, \"trackNumber\":1, \"trackTimeMillis\":134310, \"country\":\"USA\", \"currency\":\"USD\", \"primaryGenreName\":\"Pop\", \"isStreamable\":true}, \\n{\"wrapperType\":\"track\", \"kind\":\"song\", \"artistId\":657767063, \"collectionId\":1563954465, \"trackId\":1563954592, \"artistName\":\"Manizha\", \"collectionName\":\"Держи Меня Земля - Single\", \"trackName\":\"Держи Меня Земля\", \"collectionCensoredName\":\"Держи Меня Земля - Single\", \"trackCensoredName\":\"Держи Меня Земля\", \"artistViewUrl\":\"https://music.apple.com/us/artist/manizha/657767063?uo=4\", \"collectionViewUrl\":\"https://music.apple.com/us/album/%D0%B4%D0%B5%D1%80%D0%B6%D0%B8-%D0%BC%D0%B5%D0%BD%D1%8F-%D0%B7%D0%B5%D0%BC%D0%BB%D1%8F/1563954465?i=1563954592&uo=4\", \"trackViewUrl\":\"https://music.apple.com/us/album/%D0%B4%D0%B5%D1%80%D0%B6%D0%B8-%D0%BC%D0%B5%D0%BD%D1%8F-%D0%B7%D0%B5%D0%BC%D0%BB%D1%8F/1563954465?i=1563954592&uo=4\", \\n\"previewUrl\":\"https://audio-ssl.itunes.apple.com/itunes-assets/AudioPreview115/v4/53/3d/41/533d4119-7e38-80ce-9f28-2c3863c142c4/mzaf_11484060205724584497.plus.aac.p.m4a\", \"artworkUrl30\":\"https://is1-ssl.mzstatic.com/image/thumb/Music125/v4/52/3d/7b/523d7bee-7436-afb0-0ad4-63711b322f0b/196006511692.jpg/30x30bb.jpg\", \"artworkUrl60\":\"https://is1-ssl.mzstatic.com/image/thumb/Music125/v4/52/3d/7b/523d7bee-7436-afb0-0ad4-63711b322f0b/196006511692.jpg/60x60bb.jpg\", \"artworkUrl100\":\"https://is1-ssl.mzstatic.com/image/thumb/Music125/v4/52/3d/7b/523d7bee-7436-afb0-0ad4-63711b322f0b/196006511692.jpg/100x100bb.jpg\", \"collectionPrice\":0.99, \"trackPrice\":0.99, \"releaseDate\":\"2021-04-29T12:00:00Z\", \"collectionExplicitness\":\"notExplicit\", \"trackExplicitness\":\"notExplicit\", \"discCount\":1, \"discNumber\":1, \"trackCount\":1, \"trackNumber\":1, \"trackTimeMillis\":300975, \"country\":\"USA\", \"currency\":\"USD\", \"primaryGenreName\":\"Pop\", \"isStreamable\":true}, \\n{\"wrapperType\":\"track\", \"kind\":\"song\", \"artistId\":657767063, \"collectionId\":1488920523, \"trackId\":1488920766, \"artistName\":\"Manizha\", \"collectionName\":\"VANYA - Single\", \"trackName\":\"VANYA\", \"collectionCensoredName\":\"VANYA - Single\", \"trackCensoredName\":\"VANYA\", \"artistViewUrl\":\"https://music.apple.com/us/artist/manizha/657767063?uo=4\", \"collectionViewUrl\":\"https://music.apple.com/us/album/vanya/1488920523?i=1488920766&uo=4\", \"trackViewUrl\":\"https://music.apple.com/us/album/vanya/1488920523?i=1488920766&uo=4\", \\n\"previewUrl\":\"https://audio-ssl.itunes.apple.com/itunes-assets/AudioPreview115/v4/12/cb/72/12cb7202-2376-e2c4-d8a7-d666fd86f19d/mzaf_13013575271534433583.plus.aac.p.m4a\", \"artworkUrl30\":\"https://is1-ssl.mzstatic.com/image/thumb/Music123/v4/f8/a4/97/f8a497e0-3b80-f37e-177b-751a674aceeb/194491667092.jpg/30x30bb.jpg\", \"artworkUrl60\":\"https://is1-ssl.mzstatic.com/image/thumb/Music123/v4/f8/a4/97/f8a497e0-3b80-f37e-177b-751a674aceeb/194491667092.jpg/60x60bb.jpg\", \"artworkUrl100\":\"https://is1-ssl.mzstatic.com/image/thumb/Music123/v4/f8/a4/97/f8a497e0-3b80-f37e-177b-751a674aceeb/194491667092.jpg/100x100bb.jpg\", \"collectionPrice\":1.29, \"trackPrice\":1.29, \"releaseDate\":\"2019-12-06T12:00:00Z\", \"collectionExplicitness\":\"notExplicit\", \"trackExplicitness\":\"notExplicit\", \"discCount\":1, \"discNumber\":1, \"trackCount\":1, \"trackNumber\":1, \"trackTimeMillis\":211741, \"country\":\"USA\", \"currency\":\"USD\", \"primaryGenreName\":\"Pop\", \"isStreamable\":true}, \\n{\"wrapperType\":\"track\", \"kind\":\"song\", \"artistId\":657767063, \"collectionId\":1394139700, \"trackId\":1394139787, \"artistName\":\"Manizha\", \"collectionName\":\"Любил как мог - Single\", \"trackName\":\"Любил как мог\", \"collectionCensoredName\":\"Любил как мог - Single\", \"trackCensoredName\":\"Любил как мог\", \"artistViewUrl\":\"https://music.apple.com/us/artist/manizha/657767063?uo=4\", \"collectionViewUrl\":\"https://music.apple.com/us/album/%D0%BB%D1%8E%D0%B1%D0%B8%D0%BB-%D0%BA%D0%B0%D0%BA-%D0%BC%D0%BE%D0%B3/1394139700?i=1394139787&uo=4\", \"trackViewUrl\":\"https://music.apple.com/us/album/%D0%BB%D1%8E%D0%B1%D0%B8%D0%BB-%D0%BA%D0%B0%D0%BA-%D0%BC%D0%BE%D0%B3/1394139700?i=1394139787&uo=4\", \\n\"previewUrl\":\"https://audio-ssl.itunes.apple.com/itunes-assets/AudioPreview115/v4/1a/aa/a0/1aaaa0b7-bc5c-0733-d4ec-24ca7bb5f0d1/mzaf_2983168969312154461.plus.aac.p.m4a\", \"artworkUrl30\":\"https://is1-ssl.mzstatic.com/image/thumb/Music125/v4/da/be/41/dabe41b1-3d8e-1f1f-83fb-1545d5e3941d/192562650578.jpg/30x30bb.jpg\", \"artworkUrl60\":\"https://is1-ssl.mzstatic.com/image/thumb/Music125/v4/da/be/41/dabe41b1-3d8e-1f1f-83fb-1545d5e3941d/192562650578.jpg/60x60bb.jpg\", \"artworkUrl100\":\"https://is1-ssl.mzstatic.com/image/thumb/Music125/v4/da/be/41/dabe41b1-3d8e-1f1f-83fb-1545d5e3941d/192562650578.jpg/100x100bb.jpg\", \"collectionPrice\":1.29, \"trackPrice\":1.29, \"releaseDate\":\"2018-06-14T12:00:00Z\", \"collectionExplicitness\":\"explicit\", \"trackExplicitness\":\"explicit\", \"discCount\":1, \"discNumber\":1, \"trackCount\":1, \"trackNumber\":1, \"trackTimeMillis\":197359, \"country\":\"USA\", \"currency\":\"USD\", \"primaryGenreName\":\"Pop\", \"contentAdvisoryRating\":\"Explicit\", \"isStreamable\":true}, \\n{\"wrapperType\":\"track\", \"kind\":\"song\", \"artistId\":657767063, \"collectionId\":1518576961, \"trackId\":1518577371, \"artistName\":\"Manizha\", \"collectionName\":\"Начало - Single\", \"trackName\":\"Начало\", \"collectionCensoredName\":\"Начало - Single\", \"trackCensoredName\":\"Начало\", \"artistViewUrl\":\"https://music.apple.com/us/artist/manizha/657767063?uo=4\", \"collectionViewUrl\":\"https://music.apple.com/us/album/%D0%BD%D0%B0%D1%87%D0%B0%D0%BB%D0%BE/1518576961?i=1518577371&uo=4\", \"trackViewUrl\":\"https://music.apple.com/us/album/%D0%BD%D0%B0%D1%87%D0%B0%D0%BB%D0%BE/1518576961?i=1518577371&uo=4\", \\n\"previewUrl\":\"https://audio-ssl.itunes.apple.com/itunes-assets/AudioPreview115/v4/66/9a/b5/669ab521-c681-a904-e360-933cad327e8b/mzaf_4071736673427050680.plus.aac.p.m4a\", \"artworkUrl30\":\"https://is1-ssl.mzstatic.com/image/thumb/Music123/v4/0c/1c/a8/0c1ca8a7-f588-527d-e217-9c6faf394fc7/195081779171.jpg/30x30bb.jpg\", \"artworkUrl60\":\"https://is1-ssl.mzstatic.com/image/thumb/Music123/v4/0c/1c/a8/0c1ca8a7-f588-527d-e217-9c6faf394fc7/195081779171.jpg/60x60bb.jpg\", \"artworkUrl100\":\"https://is1-ssl.mzstatic.com/image/thumb/Music123/v4/0c/1c/a8/0c1ca8a7-f588-527d-e217-9c6faf394fc7/195081779171.jpg/100x100bb.jpg\", \"collectionPrice\":1.29, \"trackPrice\":1.29, \"releaseDate\":\"2020-06-22T12:00:00Z\", \"collectionExplicitness\":\"notExplicit\", \"trackExplicitness\":\"notExplicit\", \"discCount\":1, \"discNumber\":1, \"trackCount\":1, \"trackNumber\":1, \"trackTimeMillis\":199355, \"country\":\"USA\", \"currency\":\"USD\", \"primaryGenreName\":\"Pop\", \"isStreamable\":true}, \\n{\"wrapperType\":\"track\", \"kind\":\"song\", \"artistId\":657767063, \"collectionId\":1460606458, \"trackId\":1460606475, \"artistName\":\"Manizha\", \"collectionName\":\"Womanizha - Single\", \"trackName\":\"Woman\", \"collectionCensoredName\":\"Womanizha - Single\", \"trackCensoredName\":\"Woman\", \"artistViewUrl\":\"https://music.apple.com/us/artist/manizha/657767063?uo=4\", \"collectionViewUrl\":\"https://music.apple.com/us/album/woman/1460606458?i=1460606475&uo=4\", \"trackViewUrl\":\"https://music.apple.com/us/album/woman/1460606458?i=1460606475&uo=4\", \\n\"previewUrl\":\"https://audio-ssl.itunes.apple.com/itunes-assets/AudioPreview125/v4/6a/84/04/6a84042e-bb52-933e-7601-ea027b892f8a/mzaf_12594662491285522934.plus.aac.p.m4a\", \"artworkUrl30\":\"https://is1-ssl.mzstatic.com/image/thumb/Music113/v4/a0/9c/4c/a09c4c06-6916-cd13-636d-371a13e0aa01/193483758350.jpg/30x30bb.jpg\", \"artworkUrl60\":\"https://is1-ssl.mzstatic.com/image/thumb/Music113/v4/a0/9c/4c/a09c4c06-6916-cd13-636d-371a13e0aa01/193483758350.jpg/60x60bb.jpg\", \"artworkUrl100\":\"https://is1-ssl.mzstatic.com/image/thumb/Music113/v4/a0/9c/4c/a09c4c06-6916-cd13-636d-371a13e0aa01/193483758350.jpg/100x100bb.jpg\", \"collectionPrice\":3.87, \"trackPrice\":1.29, \"releaseDate\":\"2019-04-26T12:00:00Z\", \"collectionExplicitness\":\"notExplicit\", \"trackExplicitness\":\"notExplicit\", \"discCount\":1, \"discNumber\":1, \"trackCount\":3, \"trackNumber\":2, \"trackTimeMillis\":278573, \"country\":\"USA\", \"currency\":\"USD\", \"primaryGenreName\":\"Pop\", \"isStreamable\":true}, \\n{\"wrapperType\":\"track\", \"kind\":\"song\", \"artistId\":657767063, \"collectionId\":1295685323, \"trackId\":1295686198, \"artistName\":\"Manizha\", \"collectionName\":\"The Emerald - Single\", \"trackName\":\"The Emerald\", \"collectionCensoredName\":\"The Emerald - Single\", \"trackCensoredName\":\"The Emerald\", \"artistViewUrl\":\"https://music.apple.com/us/artist/manizha/657767063?uo=4\", \"collectionViewUrl\":\"https://music.apple.com/us/album/the-emerald/1295685323?i=1295686198&uo=4\", \"trackViewUrl\":\"https://music.apple.com/us/album/the-emerald/1295685323?i=1295686198&uo=4\", \\n\"previewUrl\":\"https://audio-ssl.itunes.apple.com/itunes-assets/AudioPreview125/v4/f9/ed/37/f9ed37b0-41a9-f0d8-eb5f-b8a15e6f5e84/mzaf_8393045576258086090.plus.aac.p.m4a\", \"artworkUrl30\":\"https://is1-ssl.mzstatic.com/image/thumb/Music118/v4/92/7f/f0/927ff0cb-4e1a-f84a-8032-19bc6c885dbf/191773807511.jpg/30x30bb.jpg\", \"artworkUrl60\":\"https://is1-ssl.mzstatic.com/image/thumb/Music118/v4/92/7f/f0/927ff0cb-4e1a-f84a-8032-19bc6c885dbf/191773807511.jpg/60x60bb.jpg\", \"artworkUrl100\":\"https://is1-ssl.mzstatic.com/image/thumb/Music118/v4/92/7f/f0/927ff0cb-4e1a-f84a-8032-19bc6c885dbf/191773807511.jpg/100x100bb.jpg\", \"collectionPrice\":1.29, \"trackPrice\":1.29, \"releaseDate\":\"2017-10-13T12:00:00Z\", \"collectionExplicitness\":\"notExplicit\", \"trackExplicitness\":\"notExplicit\", \"discCount\":1, \"discNumber\":1, \"trackCount\":1, \"trackNumber\":1, \"trackTimeMillis\":255440, \"country\":\"USA\", \"currency\":\"USD\", \"primaryGenreName\":\"Pop\", \"isStreamable\":true}, \\n{\"wrapperType\":\"track\", \"kind\":\"song\", \"artistId\":657767063, \"collectionId\":1134053895, \"trackId\":1134054270, \"artistName\":\"Manizha\", \"collectionName\":\"Little Lady - Single\", \"trackName\":\"Little Lady\", \"collectionCensoredName\":\"Little Lady - Single\", \"trackCensoredName\":\"Little Lady\", \"artistViewUrl\":\"https://music.apple.com/us/artist/manizha/657767063?uo=4\", \"collectionViewUrl\":\"https://music.apple.com/us/album/little-lady/1134053895?i=1134054270&uo=4\", \"trackViewUrl\":\"https://music.apple.com/us/album/little-lady/1134053895?i=1134054270&uo=4\", \\n\"previewUrl\":\"https://audio-ssl.itunes.apple.com/itunes-assets/AudioPreview125/v4/c6/0a/52/c60a52c5-a37b-aae7-d06b-ae98f3735f74/mzaf_6916610263352320613.plus.aac.p.m4a\", \"artworkUrl30\":\"https://is1-ssl.mzstatic.com/image/thumb/Music124/v4/6d/d8/8f/6dd88f67-6362-9f66-ec7c-4f2fa3264fb2/859717791790_cover.jpg/30x30bb.jpg\", \"artworkUrl60\":\"https://is1-ssl.mzstatic.com/image/thumb/Music124/v4/6d/d8/8f/6dd88f67-6362-9f66-ec7c-4f2fa3264fb2/859717791790_cover.jpg/60x60bb.jpg\", \"artworkUrl100\":\"https://is1-ssl.mzstatic.com/image/thumb/Music124/v4/6d/d8/8f/6dd88f67-6362-9f66-ec7c-4f2fa3264fb2/859717791790_cover.jpg/100x100bb.jpg\", \"collectionPrice\":0.99, \"trackPrice\":0.99, \"releaseDate\":\"2016-07-25T12:00:00Z\", \"collectionExplicitness\":\"notExplicit\", \"trackExplicitness\":\"notExplicit\", \"discCount\":1, \"discNumber\":1, \"trackCount\":1, \"trackNumber\":1, \"trackTimeMillis\":217529, \"country\":\"USA\", \"currency\":\"USD\", \"primaryGenreName\":\"R&B/Soul\", \"isStreamable\":true}, \\n{\"wrapperType\":\"track\", \"kind\":\"song\", \"artistId\":657767063, \"collectionId\":1115201485, \"trackId\":1115201977, \"artistName\":\"Manizha\", \"collectionName\":\"I Love Too Much - Single\", \"trackName\":\"I Love Too Much\", \"collectionCensoredName\":\"I Love Too Much - Single\", \"trackCensoredName\":\"I Love Too Much\", \"artistViewUrl\":\"https://music.apple.com/us/artist/manizha/657767063?uo=4\", \"collectionViewUrl\":\"https://music.apple.com/us/album/i-love-too-much/1115201485?i=1115201977&uo=4\", \"trackViewUrl\":\"https://music.apple.com/us/album/i-love-too-much/1115201485?i=1115201977&uo=4\", \\n\"previewUrl\":\"https://audio-ssl.itunes.apple.com/itunes-assets/AudioPreview115/v4/96/5e/ff/965eff71-3111-558b-0502-ccce0425ec94/mzaf_704524728313346373.plus.aac.p.m4a\", \"artworkUrl30\":\"https://is1-ssl.mzstatic.com/image/thumb/Music60/v4/42/26/76/422676f1-ea58-c777-2734-9fbb92901ad4/859717347904_cover.jpg/30x30bb.jpg\", \"artworkUrl60\":\"https://is1-ssl.mzstatic.com/image/thumb/Music60/v4/42/26/76/422676f1-ea58-c777-2734-9fbb92901ad4/859717347904_cover.jpg/60x60bb.jpg\", \"artworkUrl100\":\"https://is1-ssl.mzstatic.com/image/thumb/Music60/v4/42/26/76/422676f1-ea58-c777-2734-9fbb92901ad4/859717347904_cover.jpg/100x100bb.jpg\", \"collectionPrice\":0.99, \"trackPrice\":0.99, \"releaseDate\":\"2016-05-15T07:00:00Z\", \"collectionExplicitness\":\"notExplicit\", \"trackExplicitness\":\"notExplicit\", \"discCount\":1, \"discNumber\":1, \"trackCount\":1, \"trackNumber\":1, \"trackTimeMillis\":209237, \"country\":\"USA\", \"currency\":\"USD\", \"primaryGenreName\":\"Pop\", \"isStreamable\":true}, \\n{\"wrapperType\":\"track\", \"kind\":\"song\", \"artistId\":657767063, \"collectionId\":1445229945, \"trackId\":1445229952, \"artistName\":\"Manizha\", \"collectionName\":\"Black Swan\", \"trackName\":\"Black Swan (feat. Anya Chipovskaya)\", \"collectionCensoredName\":\"Black Swan\", \"trackCensoredName\":\"Black Swan (feat. Anya Chipovskaya)\", \"artistViewUrl\":\"https://music.apple.com/us/artist/manizha/657767063?uo=4\", \"collectionViewUrl\":\"https://music.apple.com/us/album/black-swan-feat-anya-chipovskaya/1445229945?i=1445229952&uo=4\", \"trackViewUrl\":\"https://music.apple.com/us/album/black-swan-feat-anya-chipovskaya/1445229945?i=1445229952&uo=4\", \\n\"previewUrl\":\"https://audio-ssl.itunes.apple.com/itunes-assets/AudioPreview115/v4/e2/20/8a/e2208ab6-ca30-be23-1bb1-1addac1c76b1/mzaf_12143945013517384326.plus.aac.p.m4a\", \"artworkUrl30\":\"https://is1-ssl.mzstatic.com/image/thumb/Music118/v4/5a/aa/b5/5aaab54b-e58d-8ad4-3e43-ed208b2cbce9/193483254531.jpg/30x30bb.jpg\", \"artworkUrl60\":\"https://is1-ssl.mzstatic.com/image/thumb/Music118/v4/5a/aa/b5/5aaab54b-e58d-8ad4-3e43-ed208b2cbce9/193483254531.jpg/60x60bb.jpg\", \"artworkUrl100\":\"https://is1-ssl.mzstatic.com/image/thumb/Music118/v4/5a/aa/b5/5aaab54b-e58d-8ad4-3e43-ed208b2cbce9/193483254531.jpg/100x100bb.jpg\", \"collectionPrice\":3.87, \"trackPrice\":1.29, \"releaseDate\":\"2018-12-14T12:00:00Z\", \"collectionExplicitness\":\"notExplicit\", \"trackExplicitness\":\"notExplicit\", \"discCount\":1, \"discNumber\":1, \"trackCount\":3, \"trackNumber\":1, \"trackTimeMillis\":165467, \"country\":\"USA\", \"currency\":\"USD\", \"primaryGenreName\":\"Pop\", \"isStreamable\":true}, \\n{\"wrapperType\":\"track\", \"kind\":\"song\", \"artistId\":657767063, \"collectionId\":1220846414, \"trackId\":1220847087, \"artistName\":\"Manizha\", \"collectionName\":\"Define\", \"trackName\":\"Inogda (Boogrov Rework) [Bonus Track]\", \"collectionCensoredName\":\"Define\", \"trackCensoredName\":\"Inogda (Boogrov Rework) [Bonus Track]\", \"collectionArtistId\":668781942, \"collectionArtistName\":\"Boogrov\", \"collectionArtistViewUrl\":\"https://music.apple.com/us/artist/boogrov/668781942?uo=4\", \"artistViewUrl\":\"https://music.apple.com/us/artist/manizha/657767063?uo=4\", \"collectionViewUrl\":\"https://music.apple.com/us/album/inogda-boogrov-rework-bonus-track/1220846414?i=1220847087&uo=4\", \"trackViewUrl\":\"https://music.apple.com/us/album/inogda-boogrov-rework-bonus-track/1220846414?i=1220847087&uo=4\", \\n\"previewUrl\":\"https://audio-ssl.itunes.apple.com/itunes-assets/AudioPreview125/v4/09/69/9d/09699dba-e234-b3ba-06ac-a228cd70d7cf/mzaf_17360379691501076951.plus.aac.p.m4a\", \"artworkUrl30\":\"https://is1-ssl.mzstatic.com/image/thumb/Music126/v4/fa/9f/b1/fa9fb14a-175d-b1b9-700d-abec9114e3f2/cover.jpg/30x30bb.jpg\", \"artworkUrl60\":\"https://is1-ssl.mzstatic.com/image/thumb/Music126/v4/fa/9f/b1/fa9fb14a-175d-b1b9-700d-abec9114e3f2/cover.jpg/60x60bb.jpg\", \"artworkUrl100\":\"https://is1-ssl.mzstatic.com/image/thumb/Music126/v4/fa/9f/b1/fa9fb14a-175d-b1b9-700d-abec9114e3f2/cover.jpg/100x100bb.jpg\", \"collectionPrice\":7.99, \"trackPrice\":1.29, \"releaseDate\":\"2017-04-07T12:00:00Z\", \"collectionExplicitness\":\"notExplicit\", \"trackExplicitness\":\"notExplicit\", \"discCount\":1, \"discNumber\":1, \"trackCount\":13, \"trackNumber\":13, \"trackTimeMillis\":287089, \"country\":\"USA\", \"currency\":\"USD\", \"primaryGenreName\":\"Breakbeat\", \"isStreamable\":true}, \\n{\"wrapperType\":\"track\", \"kind\":\"song\", \"artistId\":586919688, \"collectionId\":1535665442, \"trackId\":1535665520, \"artistName\":\"Bi-2 & Manizha\", \"collectionName\":\"Нечётный воин 4. Часть 1\", \"trackName\":\"Паганини в метро\", \"collectionCensoredName\":\"Нечётный воин 4. Часть 1\", \"trackCensoredName\":\"Паганини в метро\", \"collectionArtistName\":\"Bi-2\", \"artistViewUrl\":\"https://music.apple.com/us/artist/bi-2/586919688?uo=4\", \"collectionViewUrl\":\"https://music.apple.com/us/album/%D0%BF%D0%B0%D0%B3%D0%B0%D0%BD%D0%B8%D0%BD%D0%B8-%D0%B2-%D0%BC%D0%B5%D1%82%D1%80%D0%BE/1535665442?i=1535665520&uo=4\", \"trackViewUrl\":\"https://music.apple.com/us/album/%D0%BF%D0%B0%D0%B3%D0%B0%D0%BD%D0%B8%D0%BD%D0%B8-%D0%B2-%D0%BC%D0%B5%D1%82%D1%80%D0%BE/1535665442?i=1535665520&uo=4\", \\n\"previewUrl\":\"https://audio-ssl.itunes.apple.com/itunes-assets/AudioPreview115/v4/51/f8/dd/51f8ddf8-9529-1fae-b065-43b251550026/mzaf_11549062724378269165.plus.aac.p.m4a\", \"artworkUrl30\":\"https://is1-ssl.mzstatic.com/image/thumb/Music124/v4/f9/7a/a9/f97aa914-4021-7443-7c4f-41ed819a8cc8/195497395422.jpg/30x30bb.jpg\", \"artworkUrl60\":\"https://is1-ssl.mzstatic.com/image/thumb/Music124/v4/f9/7a/a9/f97aa914-4021-7443-7c4f-41ed819a8cc8/195497395422.jpg/60x60bb.jpg\", \"artworkUrl100\":\"https://is1-ssl.mzstatic.com/image/thumb/Music124/v4/f9/7a/a9/f97aa914-4021-7443-7c4f-41ed819a8cc8/195497395422.jpg/100x100bb.jpg\", \"collectionPrice\":11.99, \"trackPrice\":1.29, \"releaseDate\":\"2020-07-17T12:00:00Z\", \"collectionExplicitness\":\"notExplicit\", \"trackExplicitness\":\"notExplicit\", \"discCount\":1, \"discNumber\":1, \"trackCount\":11, \"trackNumber\":1, \"trackTimeMillis\":385033, \"country\":\"USA\", \"currency\":\"USD\", \"primaryGenreName\":\"Rock\", \"isStreamable\":true}, \\n{\"wrapperType\":\"track\", \"kind\":\"song\", \"artistId\":657767063, \"collectionId\":1585430730, \"trackId\":1585430732, \"artistName\":\"Manizha\", \"collectionName\":\"Russian Woman Show (Live) - EP\", \"trackName\":\"Самолеты улетают (feat. Kirill Richter) [Live]\", \"collectionCensoredName\":\"Russian Woman Show (Live) - EP\", \"trackCensoredName\":\"Самолеты улетают (feat. Kirill Richter) [Live]\", \"artistViewUrl\":\"https://music.apple.com/us/artist/manizha/657767063?uo=4\", \\n\"collectionViewUrl\":\"https://music.apple.com/us/album/%D1%81%D0%B0%D0%BC%D0%BE%D0%BB%D0%B5%D1%82%D1%8B-%D1%83%D0%BB%D0%B5%D1%82%D0%B0%D1%8E%D1%82-feat-kirill-richter-live/1585430730?i=1585430732&uo=4\", \\n\"trackViewUrl\":\"https://music.apple.com/us/album/%D1%81%D0%B0%D0%BC%D0%BE%D0%BB%D0%B5%D1%82%D1%8B-%D1%83%D0%BB%D0%B5%D1%82%D0%B0%D1%8E%D1%82-feat-kirill-richter-live/1585430730?i=1585430732&uo=4\", \\n\"previewUrl\":\"https://audio-ssl.itunes.apple.com/itunes-assets/AudioPreview115/v4/ef/2e/b5/ef2eb5ff-4f2e-0616-e9e0-f45ce2c7555e/mzaf_13325893507880311648.plus.aac.p.m4a\", \"artworkUrl30\":\"https://is1-ssl.mzstatic.com/image/thumb/Music115/v4/98/e7/b8/98e7b821-56e3-9ef0-f746-634b3c00f47b/196292447156.jpg/30x30bb.jpg\", \"artworkUrl60\":\"https://is1-ssl.mzstatic.com/image/thumb/Music115/v4/98/e7/b8/98e7b821-56e3-9ef0-f746-634b3c00f47b/196292447156.jpg/60x60bb.jpg\", \"artworkUrl100\":\"https://is1-ssl.mzstatic.com/image/thumb/Music115/v4/98/e7/b8/98e7b821-56e3-9ef0-f746-634b3c00f47b/196292447156.jpg/100x100bb.jpg\", \"collectionPrice\":6.45, \"trackPrice\":1.29, \"releaseDate\":\"2021-09-24T12:00:00Z\", \"collectionExplicitness\":\"explicit\", \"trackExplicitness\":\"notExplicit\", \"discCount\":1, \"discNumber\":1, \"trackCount\":5, \"trackNumber\":1, \"trackTimeMillis\":340759, \"country\":\"USA\", \"currency\":\"USD\", \"primaryGenreName\":\"Pop\", \"isStreamable\":true}, \\n{\"wrapperType\":\"track\", \"kind\":\"song\", \"artistId\":657767063, \"collectionId\":1477383294, \"trackId\":1477383460, \"artistName\":\"Manizha\", \"collectionName\":\"Завтрак - Single\", \"trackName\":\"Завтрак\", \"collectionCensoredName\":\"Завтрак - Single\", \"trackCensoredName\":\"Завтрак\", \"artistViewUrl\":\"https://music.apple.com/us/artist/manizha/657767063?uo=4\", \"collectionViewUrl\":\"https://music.apple.com/us/album/%D0%B7%D0%B0%D0%B2%D1%82%D1%80%D0%B0%D0%BA/1477383294?i=1477383460&uo=4\", \"trackViewUrl\":\"https://music.apple.com/us/album/%D0%B7%D0%B0%D0%B2%D1%82%D1%80%D0%B0%D0%BA/1477383294?i=1477383460&uo=4\", \\n\"previewUrl\":\"https://audio-ssl.itunes.apple.com/itunes-assets/AudioPreview115/v4/9f/23/6a/9f236a04-bcf1-aed9-a971-880d1f65fc23/mzaf_6912086725907458704.plus.aac.p.m4a\", \"artworkUrl30\":\"https://is1-ssl.mzstatic.com/image/thumb/Music113/v4/6b/b1/30/6bb130fc-a66e-ae05-f46b-a13fcf4721f0/194491249762.jpg/30x30bb.jpg\", \"artworkUrl60\":\"https://is1-ssl.mzstatic.com/image/thumb/Music113/v4/6b/b1/30/6bb130fc-a66e-ae05-f46b-a13fcf4721f0/194491249762.jpg/60x60bb.jpg\", \"artworkUrl100\":\"https://is1-ssl.mzstatic.com/image/thumb/Music113/v4/6b/b1/30/6bb130fc-a66e-ae05-f46b-a13fcf4721f0/194491249762.jpg/100x100bb.jpg\", \"collectionPrice\":1.29, \"trackPrice\":1.29, \"releaseDate\":\"2019-08-26T12:00:00Z\", \"collectionExplicitness\":\"notExplicit\", \"trackExplicitness\":\"notExplicit\", \"discCount\":1, \"discNumber\":1, \"trackCount\":1, \"trackNumber\":1, \"trackTimeMillis\":178990, \"country\":\"USA\", \"currency\":\"USD\", \"primaryGenreName\":\"Pop\", \"isStreamable\":true}, \\n{\"wrapperType\":\"track\", \"kind\":\"song\", \"artistId\":657767063, \"collectionId\":1599062518, \"trackId\":1599062946, \"artistName\":\"Manizha\", \"collectionName\":\"Now or Never - Single\", \"trackName\":\"Now or Never\", \"collectionCensoredName\":\"Now or Never - Single\", \"trackCensoredName\":\"Now or Never\", \"artistViewUrl\":\"https://music.apple.com/us/artist/manizha/657767063?uo=4\", \"collectionViewUrl\":\"https://music.apple.com/us/album/now-or-never/1599062518?i=1599062946&uo=4\", \"trackViewUrl\":\"https://music.apple.com/us/album/now-or-never/1599062518?i=1599062946&uo=4\", \\n\"previewUrl\":\"https://audio-ssl.itunes.apple.com/itunes-assets/AudioPreview116/v4/f3/c7/3e/f3c73e2d-8e51-d57b-f11e-9f61a7abeb41/mzaf_1397521748902967745.plus.aac.p.m4a\", \"artworkUrl30\":\"https://is1-ssl.mzstatic.com/image/thumb/Music116/v4/fe/22/82/fe228229-cb03-0b7b-57be-e339b89616db/196626024428.jpg/30x30bb.jpg\", \"artworkUrl60\":\"https://is1-ssl.mzstatic.com/image/thumb/Music116/v4/fe/22/82/fe228229-cb03-0b7b-57be-e339b89616db/196626024428.jpg/60x60bb.jpg\", \"artworkUrl100\":\"https://is1-ssl.mzstatic.com/image/thumb/Music116/v4/fe/22/82/fe228229-cb03-0b7b-57be-e339b89616db/196626024428.jpg/100x100bb.jpg\", \"collectionPrice\":0.99, \"trackPrice\":0.99, \"releaseDate\":\"2021-12-10T12:00:00Z\", \"collectionExplicitness\":\"notExplicit\", \"trackExplicitness\":\"notExplicit\", \"discCount\":1, \"discNumber\":1, \"trackCount\":1, \"trackNumber\":1, \"trackTimeMillis\":202991, \"country\":\"USA\", \"currency\":\"USD\", \"primaryGenreName\":\"Pop\", \"isStreamable\":true}]\\n}\\n\\n\\n'"
            ],
            "application/vnd.google.colaboratory.intrinsic+json": {
              "type": "string"
            }
          },
          "metadata": {},
          "execution_count": 35
        }
      ]
    },
    {
      "cell_type": "code",
      "source": [
        "response.status_code"
      ],
      "metadata": {
        "colab": {
          "base_uri": "https://localhost:8080/"
        },
        "id": "0orFqdZ1i7dU",
        "outputId": "bc4a740c-c967-412d-917b-6596ae7e329f"
      },
      "execution_count": 30,
      "outputs": [
        {
          "output_type": "execute_result",
          "data": {
            "text/plain": [
              "200"
            ]
          },
          "metadata": {},
          "execution_count": 30
        }
      ]
    },
    {
      "cell_type": "code",
      "source": [
        "df[['primaryGenreName', 'trackId']].groupby(by=['primaryGenreName']).nunique()"
      ],
      "metadata": {
        "colab": {
          "base_uri": "https://localhost:8080/",
          "height": 269
        },
        "id": "u3_rOrkdiCrK",
        "outputId": "3a2094ae-4aca-46fd-9d59-45c9711c672b"
      },
      "execution_count": 22,
      "outputs": [
        {
          "output_type": "execute_result",
          "data": {
            "text/plain": [
              "                  trackId\n",
              "primaryGenreName         \n",
              "Breakbeat               1\n",
              "Electronic              1\n",
              "Pop                    24\n",
              "R&B/Soul                1\n",
              "Rock                    1\n",
              "Vocal                   8"
            ],
            "text/html": [
              "\n",
              "  <div id=\"df-313c3d11-0cf9-4945-848d-df76a433a8b2\" class=\"colab-df-container\">\n",
              "    <div>\n",
              "<style scoped>\n",
              "    .dataframe tbody tr th:only-of-type {\n",
              "        vertical-align: middle;\n",
              "    }\n",
              "\n",
              "    .dataframe tbody tr th {\n",
              "        vertical-align: top;\n",
              "    }\n",
              "\n",
              "    .dataframe thead th {\n",
              "        text-align: right;\n",
              "    }\n",
              "</style>\n",
              "<table border=\"1\" class=\"dataframe\">\n",
              "  <thead>\n",
              "    <tr style=\"text-align: right;\">\n",
              "      <th></th>\n",
              "      <th>trackId</th>\n",
              "    </tr>\n",
              "    <tr>\n",
              "      <th>primaryGenreName</th>\n",
              "      <th></th>\n",
              "    </tr>\n",
              "  </thead>\n",
              "  <tbody>\n",
              "    <tr>\n",
              "      <th>Breakbeat</th>\n",
              "      <td>1</td>\n",
              "    </tr>\n",
              "    <tr>\n",
              "      <th>Electronic</th>\n",
              "      <td>1</td>\n",
              "    </tr>\n",
              "    <tr>\n",
              "      <th>Pop</th>\n",
              "      <td>24</td>\n",
              "    </tr>\n",
              "    <tr>\n",
              "      <th>R&amp;B/Soul</th>\n",
              "      <td>1</td>\n",
              "    </tr>\n",
              "    <tr>\n",
              "      <th>Rock</th>\n",
              "      <td>1</td>\n",
              "    </tr>\n",
              "    <tr>\n",
              "      <th>Vocal</th>\n",
              "      <td>8</td>\n",
              "    </tr>\n",
              "  </tbody>\n",
              "</table>\n",
              "</div>\n",
              "    <div class=\"colab-df-buttons\">\n",
              "\n",
              "  <div class=\"colab-df-container\">\n",
              "    <button class=\"colab-df-convert\" onclick=\"convertToInteractive('df-313c3d11-0cf9-4945-848d-df76a433a8b2')\"\n",
              "            title=\"Convert this dataframe to an interactive table.\"\n",
              "            style=\"display:none;\">\n",
              "\n",
              "  <svg xmlns=\"http://www.w3.org/2000/svg\" height=\"24px\" viewBox=\"0 -960 960 960\">\n",
              "    <path d=\"M120-120v-720h720v720H120Zm60-500h600v-160H180v160Zm220 220h160v-160H400v160Zm0 220h160v-160H400v160ZM180-400h160v-160H180v160Zm440 0h160v-160H620v160ZM180-180h160v-160H180v160Zm440 0h160v-160H620v160Z\"/>\n",
              "  </svg>\n",
              "    </button>\n",
              "\n",
              "  <style>\n",
              "    .colab-df-container {\n",
              "      display:flex;\n",
              "      gap: 12px;\n",
              "    }\n",
              "\n",
              "    .colab-df-convert {\n",
              "      background-color: #E8F0FE;\n",
              "      border: none;\n",
              "      border-radius: 50%;\n",
              "      cursor: pointer;\n",
              "      display: none;\n",
              "      fill: #1967D2;\n",
              "      height: 32px;\n",
              "      padding: 0 0 0 0;\n",
              "      width: 32px;\n",
              "    }\n",
              "\n",
              "    .colab-df-convert:hover {\n",
              "      background-color: #E2EBFA;\n",
              "      box-shadow: 0px 1px 2px rgba(60, 64, 67, 0.3), 0px 1px 3px 1px rgba(60, 64, 67, 0.15);\n",
              "      fill: #174EA6;\n",
              "    }\n",
              "\n",
              "    .colab-df-buttons div {\n",
              "      margin-bottom: 4px;\n",
              "    }\n",
              "\n",
              "    [theme=dark] .colab-df-convert {\n",
              "      background-color: #3B4455;\n",
              "      fill: #D2E3FC;\n",
              "    }\n",
              "\n",
              "    [theme=dark] .colab-df-convert:hover {\n",
              "      background-color: #434B5C;\n",
              "      box-shadow: 0px 1px 3px 1px rgba(0, 0, 0, 0.15);\n",
              "      filter: drop-shadow(0px 1px 2px rgba(0, 0, 0, 0.3));\n",
              "      fill: #FFFFFF;\n",
              "    }\n",
              "  </style>\n",
              "\n",
              "    <script>\n",
              "      const buttonEl =\n",
              "        document.querySelector('#df-313c3d11-0cf9-4945-848d-df76a433a8b2 button.colab-df-convert');\n",
              "      buttonEl.style.display =\n",
              "        google.colab.kernel.accessAllowed ? 'block' : 'none';\n",
              "\n",
              "      async function convertToInteractive(key) {\n",
              "        const element = document.querySelector('#df-313c3d11-0cf9-4945-848d-df76a433a8b2');\n",
              "        const dataTable =\n",
              "          await google.colab.kernel.invokeFunction('convertToInteractive',\n",
              "                                                    [key], {});\n",
              "        if (!dataTable) return;\n",
              "\n",
              "        const docLinkHtml = 'Like what you see? Visit the ' +\n",
              "          '<a target=\"_blank\" href=https://colab.research.google.com/notebooks/data_table.ipynb>data table notebook</a>'\n",
              "          + ' to learn more about interactive tables.';\n",
              "        element.innerHTML = '';\n",
              "        dataTable['output_type'] = 'display_data';\n",
              "        await google.colab.output.renderOutput(dataTable, element);\n",
              "        const docLink = document.createElement('div');\n",
              "        docLink.innerHTML = docLinkHtml;\n",
              "        element.appendChild(docLink);\n",
              "      }\n",
              "    </script>\n",
              "  </div>\n",
              "\n",
              "\n",
              "<div id=\"df-94aeeada-bad1-4e8f-945a-62c59cf0eb10\">\n",
              "  <button class=\"colab-df-quickchart\" onclick=\"quickchart('df-94aeeada-bad1-4e8f-945a-62c59cf0eb10')\"\n",
              "            title=\"Suggest charts\"\n",
              "            style=\"display:none;\">\n",
              "\n",
              "<svg xmlns=\"http://www.w3.org/2000/svg\" height=\"24px\"viewBox=\"0 0 24 24\"\n",
              "     width=\"24px\">\n",
              "    <g>\n",
              "        <path d=\"M19 3H5c-1.1 0-2 .9-2 2v14c0 1.1.9 2 2 2h14c1.1 0 2-.9 2-2V5c0-1.1-.9-2-2-2zM9 17H7v-7h2v7zm4 0h-2V7h2v10zm4 0h-2v-4h2v4z\"/>\n",
              "    </g>\n",
              "</svg>\n",
              "  </button>\n",
              "\n",
              "<style>\n",
              "  .colab-df-quickchart {\n",
              "      --bg-color: #E8F0FE;\n",
              "      --fill-color: #1967D2;\n",
              "      --hover-bg-color: #E2EBFA;\n",
              "      --hover-fill-color: #174EA6;\n",
              "      --disabled-fill-color: #AAA;\n",
              "      --disabled-bg-color: #DDD;\n",
              "  }\n",
              "\n",
              "  [theme=dark] .colab-df-quickchart {\n",
              "      --bg-color: #3B4455;\n",
              "      --fill-color: #D2E3FC;\n",
              "      --hover-bg-color: #434B5C;\n",
              "      --hover-fill-color: #FFFFFF;\n",
              "      --disabled-bg-color: #3B4455;\n",
              "      --disabled-fill-color: #666;\n",
              "  }\n",
              "\n",
              "  .colab-df-quickchart {\n",
              "    background-color: var(--bg-color);\n",
              "    border: none;\n",
              "    border-radius: 50%;\n",
              "    cursor: pointer;\n",
              "    display: none;\n",
              "    fill: var(--fill-color);\n",
              "    height: 32px;\n",
              "    padding: 0;\n",
              "    width: 32px;\n",
              "  }\n",
              "\n",
              "  .colab-df-quickchart:hover {\n",
              "    background-color: var(--hover-bg-color);\n",
              "    box-shadow: 0 1px 2px rgba(60, 64, 67, 0.3), 0 1px 3px 1px rgba(60, 64, 67, 0.15);\n",
              "    fill: var(--button-hover-fill-color);\n",
              "  }\n",
              "\n",
              "  .colab-df-quickchart-complete:disabled,\n",
              "  .colab-df-quickchart-complete:disabled:hover {\n",
              "    background-color: var(--disabled-bg-color);\n",
              "    fill: var(--disabled-fill-color);\n",
              "    box-shadow: none;\n",
              "  }\n",
              "\n",
              "  .colab-df-spinner {\n",
              "    border: 2px solid var(--fill-color);\n",
              "    border-color: transparent;\n",
              "    border-bottom-color: var(--fill-color);\n",
              "    animation:\n",
              "      spin 1s steps(1) infinite;\n",
              "  }\n",
              "\n",
              "  @keyframes spin {\n",
              "    0% {\n",
              "      border-color: transparent;\n",
              "      border-bottom-color: var(--fill-color);\n",
              "      border-left-color: var(--fill-color);\n",
              "    }\n",
              "    20% {\n",
              "      border-color: transparent;\n",
              "      border-left-color: var(--fill-color);\n",
              "      border-top-color: var(--fill-color);\n",
              "    }\n",
              "    30% {\n",
              "      border-color: transparent;\n",
              "      border-left-color: var(--fill-color);\n",
              "      border-top-color: var(--fill-color);\n",
              "      border-right-color: var(--fill-color);\n",
              "    }\n",
              "    40% {\n",
              "      border-color: transparent;\n",
              "      border-right-color: var(--fill-color);\n",
              "      border-top-color: var(--fill-color);\n",
              "    }\n",
              "    60% {\n",
              "      border-color: transparent;\n",
              "      border-right-color: var(--fill-color);\n",
              "    }\n",
              "    80% {\n",
              "      border-color: transparent;\n",
              "      border-right-color: var(--fill-color);\n",
              "      border-bottom-color: var(--fill-color);\n",
              "    }\n",
              "    90% {\n",
              "      border-color: transparent;\n",
              "      border-bottom-color: var(--fill-color);\n",
              "    }\n",
              "  }\n",
              "</style>\n",
              "\n",
              "  <script>\n",
              "    async function quickchart(key) {\n",
              "      const quickchartButtonEl =\n",
              "        document.querySelector('#' + key + ' button');\n",
              "      quickchartButtonEl.disabled = true;  // To prevent multiple clicks.\n",
              "      quickchartButtonEl.classList.add('colab-df-spinner');\n",
              "      try {\n",
              "        const charts = await google.colab.kernel.invokeFunction(\n",
              "            'suggestCharts', [key], {});\n",
              "      } catch (error) {\n",
              "        console.error('Error during call to suggestCharts:', error);\n",
              "      }\n",
              "      quickchartButtonEl.classList.remove('colab-df-spinner');\n",
              "      quickchartButtonEl.classList.add('colab-df-quickchart-complete');\n",
              "    }\n",
              "    (() => {\n",
              "      let quickchartButtonEl =\n",
              "        document.querySelector('#df-94aeeada-bad1-4e8f-945a-62c59cf0eb10 button');\n",
              "      quickchartButtonEl.style.display =\n",
              "        google.colab.kernel.accessAllowed ? 'block' : 'none';\n",
              "    })();\n",
              "  </script>\n",
              "</div>\n",
              "    </div>\n",
              "  </div>\n"
            ],
            "application/vnd.google.colaboratory.intrinsic+json": {
              "type": "dataframe",
              "summary": "{\n  \"name\": \"df[['primaryGenreName', 'trackId']]\",\n  \"rows\": 6,\n  \"fields\": [\n    {\n      \"column\": \"primaryGenreName\",\n      \"properties\": {\n        \"dtype\": \"string\",\n        \"num_unique_values\": 6,\n        \"samples\": [\n          \"Breakbeat\",\n          \"Electronic\",\n          \"Vocal\"\n        ],\n        \"semantic_type\": \"\",\n        \"description\": \"\"\n      }\n    },\n    {\n      \"column\": \"trackId\",\n      \"properties\": {\n        \"dtype\": \"number\",\n        \"std\": 9,\n        \"min\": 1,\n        \"max\": 24,\n        \"num_unique_values\": 3,\n        \"samples\": [\n          1,\n          24,\n          8\n        ],\n        \"semantic_type\": \"\",\n        \"description\": \"\"\n      }\n    }\n  ]\n}"
            }
          },
          "metadata": {},
          "execution_count": 22
        }
      ]
    },
    {
      "cell_type": "code",
      "source": [
        "response.status_code"
      ],
      "metadata": {
        "colab": {
          "base_uri": "https://localhost:8080/"
        },
        "id": "Tg0alUGSi6G-",
        "outputId": "4b00d817-e753-41ca-c8cf-222d22f153c6"
      },
      "execution_count": 28,
      "outputs": [
        {
          "output_type": "execute_result",
          "data": {
            "text/plain": [
              "200"
            ]
          },
          "metadata": {},
          "execution_count": 28
        }
      ]
    },
    {
      "cell_type": "code",
      "source": [
        "if response.status_code == 200:\n",
        "  print('Запрос успешен')\n",
        "else:\n",
        "  print(f'Ошибка {response.status_code}')"
      ],
      "metadata": {
        "colab": {
          "base_uri": "https://localhost:8080/"
        },
        "id": "4m2gRw3fioQz",
        "outputId": "1a56830d-8aad-4d80-b7de-b65c241ae843"
      },
      "execution_count": 27,
      "outputs": [
        {
          "output_type": "stream",
          "name": "stdout",
          "text": [
            "Запрос успешен\n"
          ]
        }
      ]
    },
    {
      "cell_type": "markdown",
      "source": [
        "\n",
        "\n",
        "*   404 - когда не найден элемент или метод (страница)\n",
        "*   500 - когда сервер не доступен\n",
        "*   200 - когда все хорошо\n",
        "\n"
      ],
      "metadata": {
        "id": "2rc8H9iUjHuF"
      }
    },
    {
      "cell_type": "code",
      "source": [
        "# API post itunes\n",
        "\n",
        "url = 'https://itunes.apple.com/search'\n",
        "params = {'media': 'music', 'term': 'manizha', 'limit': 30}\n",
        "response = requests.post(url, data=params, timeout=10)"
      ],
      "metadata": {
        "id": "hyouZkZOXnIS"
      },
      "execution_count": 37,
      "outputs": []
    },
    {
      "cell_type": "code",
      "source": [
        "results = response.json().get('results', [])"
      ],
      "metadata": {
        "id": "NWeLSzdojnp_"
      },
      "execution_count": 53,
      "outputs": []
    },
    {
      "cell_type": "code",
      "source": [
        "# сохранение json\n",
        "with open('iTunes_api.json', 'w', encoding='utf-8') as json_file:\n",
        "\n",
        "  json.dump(results, json_file)"
      ],
      "metadata": {
        "id": "RxhZ1jlNks7E"
      },
      "execution_count": 56,
      "outputs": []
    },
    {
      "cell_type": "code",
      "source": [
        "# чтение json\n",
        "with open('iTunes_api.json', 'r', encoding='utf-8') as json_file:\n",
        "\n",
        "  loaded = json.load(json_file)\n",
        "  print(loaded)"
      ],
      "metadata": {
        "colab": {
          "base_uri": "https://localhost:8080/"
        },
        "id": "sij7b1-Tleyb",
        "outputId": "e9bdab4f-a712-4e19-a81d-21b6e30c3817"
      },
      "execution_count": 57,
      "outputs": [
        {
          "output_type": "stream",
          "name": "stdout",
          "text": [
            "[{'wrapperType': 'track', 'kind': 'song', 'artistId': 657767063, 'collectionId': 1558497187, 'trackId': 1558497274, 'artistName': 'Manizha', 'collectionName': 'RUSSIAN WOMAN - Single', 'trackName': 'RUSSIAN WOMAN', 'collectionCensoredName': 'RUSSIAN WOMAN - Single', 'trackCensoredName': 'RUSSIAN WOMAN', 'artistViewUrl': 'https://music.apple.com/us/artist/manizha/657767063?uo=4', 'collectionViewUrl': 'https://music.apple.com/us/album/russian-woman/1558497187?i=1558497274&uo=4', 'trackViewUrl': 'https://music.apple.com/us/album/russian-woman/1558497187?i=1558497274&uo=4', 'previewUrl': 'https://audio-ssl.itunes.apple.com/itunes-assets/AudioPreview116/v4/de/9e/6f/de9e6f41-feb3-95b9-c870-99e1b063efa6/mzaf_15150561003557477931.plus.aac.p.m4a', 'artworkUrl30': 'https://is1-ssl.mzstatic.com/image/thumb/Music125/v4/40/19/24/40192403-542f-63b2-a82e-508db809c036/196006322038.jpg/30x30bb.jpg', 'artworkUrl60': 'https://is1-ssl.mzstatic.com/image/thumb/Music125/v4/40/19/24/40192403-542f-63b2-a82e-508db809c036/196006322038.jpg/60x60bb.jpg', 'artworkUrl100': 'https://is1-ssl.mzstatic.com/image/thumb/Music125/v4/40/19/24/40192403-542f-63b2-a82e-508db809c036/196006322038.jpg/100x100bb.jpg', 'collectionPrice': 0.99, 'trackPrice': 0.99, 'releaseDate': '2021-03-19T12:00:00Z', 'collectionExplicitness': 'notExplicit', 'trackExplicitness': 'notExplicit', 'discCount': 1, 'discNumber': 1, 'trackCount': 1, 'trackNumber': 1, 'trackTimeMillis': 176878, 'country': 'USA', 'currency': 'USD', 'primaryGenreName': 'Pop', 'isStreamable': True}, {'wrapperType': 'track', 'kind': 'song', 'artistId': 657767063, 'collectionId': 1205132086, 'trackId': 1205132092, 'artistName': 'Manizha', 'collectionName': 'Manuscript', 'trackName': 'New Love', 'collectionCensoredName': 'Manuscript', 'trackCensoredName': 'New Love', 'artistViewUrl': 'https://music.apple.com/us/artist/manizha/657767063?uo=4', 'collectionViewUrl': 'https://music.apple.com/us/album/new-love/1205132086?i=1205132092&uo=4', 'trackViewUrl': 'https://music.apple.com/us/album/new-love/1205132086?i=1205132092&uo=4', 'previewUrl': 'https://audio-ssl.itunes.apple.com/itunes-assets/AudioPreview115/v4/ae/4f/a6/ae4fa6d8-bc8a-8a44-cd19-2cffab210b9d/mzaf_6684273648622286941.plus.aac.p.m4a', 'artworkUrl30': 'https://is1-ssl.mzstatic.com/image/thumb/Music115/v4/2b/a1/52/2ba152d9-2e02-8a6c-91ef-b15344aef80e/191018850258.jpg/30x30bb.jpg', 'artworkUrl60': 'https://is1-ssl.mzstatic.com/image/thumb/Music115/v4/2b/a1/52/2ba152d9-2e02-8a6c-91ef-b15344aef80e/191018850258.jpg/60x60bb.jpg', 'artworkUrl100': 'https://is1-ssl.mzstatic.com/image/thumb/Music115/v4/2b/a1/52/2ba152d9-2e02-8a6c-91ef-b15344aef80e/191018850258.jpg/100x100bb.jpg', 'collectionPrice': 9.03, 'trackPrice': 1.29, 'releaseDate': '2017-02-17T12:00:00Z', 'collectionExplicitness': 'notExplicit', 'trackExplicitness': 'notExplicit', 'discCount': 1, 'discNumber': 1, 'trackCount': 7, 'trackNumber': 5, 'trackTimeMillis': 171720, 'country': 'USA', 'currency': 'USD', 'primaryGenreName': 'Pop', 'isStreamable': True}, {'wrapperType': 'track', 'kind': 'song', 'artistId': 657767063, 'collectionId': 1351117795, 'trackId': 1351118535, 'artistName': 'Manizha', 'collectionName': 'ЯIAM', 'trackName': 'дом', 'collectionCensoredName': 'ЯIAM', 'trackCensoredName': 'дом', 'artistViewUrl': 'https://music.apple.com/us/artist/manizha/657767063?uo=4', 'collectionViewUrl': 'https://music.apple.com/us/album/%D0%B4%D0%BE%D0%BC/1351117795?i=1351118535&uo=4', 'trackViewUrl': 'https://music.apple.com/us/album/%D0%B4%D0%BE%D0%BC/1351117795?i=1351118535&uo=4', 'previewUrl': 'https://audio-ssl.itunes.apple.com/itunes-assets/AudioPreview115/v4/45/ad/9b/45ad9b77-a15e-eb99-640f-ef57121b24e9/mzaf_5471962783479802342.plus.aac.p.m4a', 'artworkUrl30': 'https://is1-ssl.mzstatic.com/image/thumb/Music118/v4/b3/6b/26/b36b26b4-e5e0-1aaf-ae82-10919072cb91/192562222737.jpg/30x30bb.jpg', 'artworkUrl60': 'https://is1-ssl.mzstatic.com/image/thumb/Music118/v4/b3/6b/26/b36b26b4-e5e0-1aaf-ae82-10919072cb91/192562222737.jpg/60x60bb.jpg', 'artworkUrl100': 'https://is1-ssl.mzstatic.com/image/thumb/Music118/v4/b3/6b/26/b36b26b4-e5e0-1aaf-ae82-10919072cb91/192562222737.jpg/100x100bb.jpg', 'collectionPrice': 10.32, 'trackPrice': 1.29, 'releaseDate': '2018-03-23T12:00:00Z', 'collectionExplicitness': 'notExplicit', 'trackExplicitness': 'notExplicit', 'discCount': 1, 'discNumber': 1, 'trackCount': 8, 'trackNumber': 3, 'trackTimeMillis': 230400, 'country': 'USA', 'currency': 'USD', 'primaryGenreName': 'Vocal', 'isStreamable': True}, {'wrapperType': 'track', 'kind': 'song', 'artistId': 657767063, 'collectionId': 1205132086, 'trackId': 1205132087, 'artistName': 'Manizha', 'collectionName': 'Manuscript', 'trackName': \"Don't Tell Me\", 'collectionCensoredName': 'Manuscript', 'trackCensoredName': \"Don't Tell Me\", 'artistViewUrl': 'https://music.apple.com/us/artist/manizha/657767063?uo=4', 'collectionViewUrl': 'https://music.apple.com/us/album/dont-tell-me/1205132086?i=1205132087&uo=4', 'trackViewUrl': 'https://music.apple.com/us/album/dont-tell-me/1205132086?i=1205132087&uo=4', 'previewUrl': 'https://audio-ssl.itunes.apple.com/itunes-assets/AudioPreview115/v4/87/e1/12/87e112c8-46db-a3af-e16f-95f5f4960e5e/mzaf_5111801899726099744.plus.aac.p.m4a', 'artworkUrl30': 'https://is1-ssl.mzstatic.com/image/thumb/Music115/v4/2b/a1/52/2ba152d9-2e02-8a6c-91ef-b15344aef80e/191018850258.jpg/30x30bb.jpg', 'artworkUrl60': 'https://is1-ssl.mzstatic.com/image/thumb/Music115/v4/2b/a1/52/2ba152d9-2e02-8a6c-91ef-b15344aef80e/191018850258.jpg/60x60bb.jpg', 'artworkUrl100': 'https://is1-ssl.mzstatic.com/image/thumb/Music115/v4/2b/a1/52/2ba152d9-2e02-8a6c-91ef-b15344aef80e/191018850258.jpg/100x100bb.jpg', 'collectionPrice': 9.03, 'trackPrice': 1.29, 'releaseDate': '2017-02-17T12:00:00Z', 'collectionExplicitness': 'notExplicit', 'trackExplicitness': 'notExplicit', 'discCount': 1, 'discNumber': 1, 'trackCount': 7, 'trackNumber': 1, 'trackTimeMillis': 210200, 'country': 'USA', 'currency': 'USD', 'primaryGenreName': 'Pop', 'isStreamable': True}, {'wrapperType': 'track', 'kind': 'song', 'artistId': 657767063, 'collectionId': 1351117795, 'trackId': 1351119010, 'artistName': 'Manizha', 'collectionName': 'ЯIAM', 'trackName': 'устал (bonus track)', 'collectionCensoredName': 'ЯIAM', 'trackCensoredName': 'устал (bonus track)', 'artistViewUrl': 'https://music.apple.com/us/artist/manizha/657767063?uo=4', 'collectionViewUrl': 'https://music.apple.com/us/album/%D1%83%D1%81%D1%82%D0%B0%D0%BB-bonus-track/1351117795?i=1351119010&uo=4', 'trackViewUrl': 'https://music.apple.com/us/album/%D1%83%D1%81%D1%82%D0%B0%D0%BB-bonus-track/1351117795?i=1351119010&uo=4', 'previewUrl': 'https://audio-ssl.itunes.apple.com/itunes-assets/AudioPreview125/v4/c0/90/fa/c090fa78-32f6-4ae1-b20f-7a615941ee13/mzaf_17736086973153687589.plus.aac.p.m4a', 'artworkUrl30': 'https://is1-ssl.mzstatic.com/image/thumb/Music118/v4/b3/6b/26/b36b26b4-e5e0-1aaf-ae82-10919072cb91/192562222737.jpg/30x30bb.jpg', 'artworkUrl60': 'https://is1-ssl.mzstatic.com/image/thumb/Music118/v4/b3/6b/26/b36b26b4-e5e0-1aaf-ae82-10919072cb91/192562222737.jpg/60x60bb.jpg', 'artworkUrl100': 'https://is1-ssl.mzstatic.com/image/thumb/Music118/v4/b3/6b/26/b36b26b4-e5e0-1aaf-ae82-10919072cb91/192562222737.jpg/100x100bb.jpg', 'collectionPrice': 10.32, 'trackPrice': 1.29, 'releaseDate': '2018-03-23T12:00:00Z', 'collectionExplicitness': 'notExplicit', 'trackExplicitness': 'notExplicit', 'discCount': 1, 'discNumber': 1, 'trackCount': 8, 'trackNumber': 8, 'trackTimeMillis': 233684, 'country': 'USA', 'currency': 'USD', 'primaryGenreName': 'Vocal', 'isStreamable': True}, {'wrapperType': 'track', 'kind': 'song', 'artistId': 657767063, 'collectionId': 1351117795, 'trackId': 1351118539, 'artistName': 'Manizha', 'collectionName': 'ЯIAM', 'trackName': 'чувство', 'collectionCensoredName': 'ЯIAM', 'trackCensoredName': 'чувство', 'artistViewUrl': 'https://music.apple.com/us/artist/manizha/657767063?uo=4', 'collectionViewUrl': 'https://music.apple.com/us/album/%D1%87%D1%83%D0%B2%D1%81%D1%82%D0%B2%D0%BE/1351117795?i=1351118539&uo=4', 'trackViewUrl': 'https://music.apple.com/us/album/%D1%87%D1%83%D0%B2%D1%81%D1%82%D0%B2%D0%BE/1351117795?i=1351118539&uo=4', 'previewUrl': 'https://audio-ssl.itunes.apple.com/itunes-assets/AudioPreview125/v4/aa/20/dd/aa20dd3b-c5d0-edb5-a546-301b35fd65ad/mzaf_10720255108024387308.plus.aac.p.m4a', 'artworkUrl30': 'https://is1-ssl.mzstatic.com/image/thumb/Music118/v4/b3/6b/26/b36b26b4-e5e0-1aaf-ae82-10919072cb91/192562222737.jpg/30x30bb.jpg', 'artworkUrl60': 'https://is1-ssl.mzstatic.com/image/thumb/Music118/v4/b3/6b/26/b36b26b4-e5e0-1aaf-ae82-10919072cb91/192562222737.jpg/60x60bb.jpg', 'artworkUrl100': 'https://is1-ssl.mzstatic.com/image/thumb/Music118/v4/b3/6b/26/b36b26b4-e5e0-1aaf-ae82-10919072cb91/192562222737.jpg/100x100bb.jpg', 'collectionPrice': 10.32, 'trackPrice': 1.29, 'releaseDate': '2018-03-23T12:00:00Z', 'collectionExplicitness': 'notExplicit', 'trackExplicitness': 'notExplicit', 'discCount': 1, 'discNumber': 1, 'trackCount': 8, 'trackNumber': 5, 'trackTimeMillis': 298520, 'country': 'USA', 'currency': 'USD', 'primaryGenreName': 'Vocal', 'isStreamable': True}, {'wrapperType': 'track', 'kind': 'song', 'artistId': 657767063, 'collectionId': 1351117795, 'trackId': 1351118537, 'artistName': 'Manizha', 'collectionName': 'ЯIAM', 'trackName': 'изумруд', 'collectionCensoredName': 'ЯIAM', 'trackCensoredName': 'изумруд', 'artistViewUrl': 'https://music.apple.com/us/artist/manizha/657767063?uo=4', 'collectionViewUrl': 'https://music.apple.com/us/album/%D0%B8%D0%B7%D1%83%D0%BC%D1%80%D1%83%D0%B4/1351117795?i=1351118537&uo=4', 'trackViewUrl': 'https://music.apple.com/us/album/%D0%B8%D0%B7%D1%83%D0%BC%D1%80%D1%83%D0%B4/1351117795?i=1351118537&uo=4', 'previewUrl': 'https://audio-ssl.itunes.apple.com/itunes-assets/AudioPreview115/v4/70/e2/ba/70e2ba34-7bc3-95f7-8a65-f87953590125/mzaf_3795963601057896234.plus.aac.p.m4a', 'artworkUrl30': 'https://is1-ssl.mzstatic.com/image/thumb/Music118/v4/b3/6b/26/b36b26b4-e5e0-1aaf-ae82-10919072cb91/192562222737.jpg/30x30bb.jpg', 'artworkUrl60': 'https://is1-ssl.mzstatic.com/image/thumb/Music118/v4/b3/6b/26/b36b26b4-e5e0-1aaf-ae82-10919072cb91/192562222737.jpg/60x60bb.jpg', 'artworkUrl100': 'https://is1-ssl.mzstatic.com/image/thumb/Music118/v4/b3/6b/26/b36b26b4-e5e0-1aaf-ae82-10919072cb91/192562222737.jpg/100x100bb.jpg', 'collectionPrice': 10.32, 'trackPrice': 1.29, 'releaseDate': '2018-03-23T12:00:00Z', 'collectionExplicitness': 'notExplicit', 'trackExplicitness': 'notExplicit', 'discCount': 1, 'discNumber': 1, 'trackCount': 8, 'trackNumber': 4, 'trackTimeMillis': 254387, 'country': 'USA', 'currency': 'USD', 'primaryGenreName': 'Vocal', 'isStreamable': True}, {'wrapperType': 'track', 'kind': 'song', 'artistId': 657767063, 'collectionId': 1351117795, 'trackId': 1351118532, 'artistName': 'Manizha', 'collectionName': 'ЯIAM', 'trackName': 'мама', 'collectionCensoredName': 'ЯIAM', 'trackCensoredName': 'мама', 'artistViewUrl': 'https://music.apple.com/us/artist/manizha/657767063?uo=4', 'collectionViewUrl': 'https://music.apple.com/us/album/%D0%BC%D0%B0%D0%BC%D0%B0/1351117795?i=1351118532&uo=4', 'trackViewUrl': 'https://music.apple.com/us/album/%D0%BC%D0%B0%D0%BC%D0%B0/1351117795?i=1351118532&uo=4', 'previewUrl': 'https://audio-ssl.itunes.apple.com/itunes-assets/AudioPreview125/v4/04/af/41/04af41e5-cdd7-0571-bb53-9051dc12fe47/mzaf_12416471791564740216.plus.aac.p.m4a', 'artworkUrl30': 'https://is1-ssl.mzstatic.com/image/thumb/Music118/v4/b3/6b/26/b36b26b4-e5e0-1aaf-ae82-10919072cb91/192562222737.jpg/30x30bb.jpg', 'artworkUrl60': 'https://is1-ssl.mzstatic.com/image/thumb/Music118/v4/b3/6b/26/b36b26b4-e5e0-1aaf-ae82-10919072cb91/192562222737.jpg/60x60bb.jpg', 'artworkUrl100': 'https://is1-ssl.mzstatic.com/image/thumb/Music118/v4/b3/6b/26/b36b26b4-e5e0-1aaf-ae82-10919072cb91/192562222737.jpg/100x100bb.jpg', 'collectionPrice': 10.32, 'trackPrice': 1.29, 'releaseDate': '2018-03-02T12:00:00Z', 'collectionExplicitness': 'notExplicit', 'trackExplicitness': 'notExplicit', 'discCount': 1, 'discNumber': 1, 'trackCount': 8, 'trackNumber': 2, 'trackTimeMillis': 348720, 'country': 'USA', 'currency': 'USD', 'primaryGenreName': 'Vocal', 'isStreamable': True}, {'wrapperType': 'track', 'kind': 'song', 'artistId': 657767063, 'collectionId': 1481887517, 'trackId': 1481887771, 'artistName': 'Manizha', 'collectionName': 'Сейчас дважды не случится - Single', 'trackName': 'Сейчас дважды не случится', 'collectionCensoredName': 'Сейчас дважды не случится - Single', 'trackCensoredName': 'Сейчас дважды не случится', 'artistViewUrl': 'https://music.apple.com/us/artist/manizha/657767063?uo=4', 'collectionViewUrl': 'https://music.apple.com/us/album/%D1%81%D0%B5%D0%B9%D1%87%D0%B0%D1%81-%D0%B4%D0%B2%D0%B0%D0%B6%D0%B4%D1%8B-%D0%BD%D0%B5-%D1%81%D0%BB%D1%83%D1%87%D0%B8%D1%82%D1%81%D1%8F/1481887517?i=1481887771&uo=4', 'trackViewUrl': 'https://music.apple.com/us/album/%D1%81%D0%B5%D0%B9%D1%87%D0%B0%D1%81-%D0%B4%D0%B2%D0%B0%D0%B6%D0%B4%D1%8B-%D0%BD%D0%B5-%D1%81%D0%BB%D1%83%D1%87%D0%B8%D1%82%D1%81%D1%8F/1481887517?i=1481887771&uo=4', 'previewUrl': 'https://audio-ssl.itunes.apple.com/itunes-assets/AudioPreview125/v4/d9/9e/36/d99e36a3-7845-bf49-e424-e37577ced66a/mzaf_5355219271979216028.plus.aac.p.m4a', 'artworkUrl30': 'https://is1-ssl.mzstatic.com/image/thumb/Music123/v4/64/b7/d4/64b7d4ec-d49f-dbe2-29b1-42940562aa87/194491429492.jpg/30x30bb.jpg', 'artworkUrl60': 'https://is1-ssl.mzstatic.com/image/thumb/Music123/v4/64/b7/d4/64b7d4ec-d49f-dbe2-29b1-42940562aa87/194491429492.jpg/60x60bb.jpg', 'artworkUrl100': 'https://is1-ssl.mzstatic.com/image/thumb/Music123/v4/64/b7/d4/64b7d4ec-d49f-dbe2-29b1-42940562aa87/194491429492.jpg/100x100bb.jpg', 'collectionPrice': 1.29, 'trackPrice': 1.29, 'releaseDate': '2019-10-02T12:00:00Z', 'collectionExplicitness': 'notExplicit', 'trackExplicitness': 'notExplicit', 'discCount': 1, 'discNumber': 1, 'trackCount': 1, 'trackNumber': 1, 'trackTimeMillis': 175926, 'country': 'USA', 'currency': 'USD', 'primaryGenreName': 'Pop', 'isStreamable': True}, {'wrapperType': 'track', 'kind': 'song', 'artistId': 657767063, 'collectionId': 1351117795, 'trackId': 1351118992, 'artistName': 'Manizha', 'collectionName': 'ЯIAM', 'trackName': 'громче слов', 'collectionCensoredName': 'ЯIAM', 'trackCensoredName': 'громче слов', 'artistViewUrl': 'https://music.apple.com/us/artist/manizha/657767063?uo=4', 'collectionViewUrl': 'https://music.apple.com/us/album/%D0%B3%D1%80%D0%BE%D0%BC%D1%87%D0%B5-%D1%81%D0%BB%D0%BE%D0%B2/1351117795?i=1351118992&uo=4', 'trackViewUrl': 'https://music.apple.com/us/album/%D0%B3%D1%80%D0%BE%D0%BC%D1%87%D0%B5-%D1%81%D0%BB%D0%BE%D0%B2/1351117795?i=1351118992&uo=4', 'previewUrl': 'https://audio-ssl.itunes.apple.com/itunes-assets/AudioPreview125/v4/e1/e9/0e/e1e90e13-e38e-3fe0-9580-522b2b806cb0/mzaf_9549061701061574517.plus.aac.p.m4a', 'artworkUrl30': 'https://is1-ssl.mzstatic.com/image/thumb/Music118/v4/b3/6b/26/b36b26b4-e5e0-1aaf-ae82-10919072cb91/192562222737.jpg/30x30bb.jpg', 'artworkUrl60': 'https://is1-ssl.mzstatic.com/image/thumb/Music118/v4/b3/6b/26/b36b26b4-e5e0-1aaf-ae82-10919072cb91/192562222737.jpg/60x60bb.jpg', 'artworkUrl100': 'https://is1-ssl.mzstatic.com/image/thumb/Music118/v4/b3/6b/26/b36b26b4-e5e0-1aaf-ae82-10919072cb91/192562222737.jpg/100x100bb.jpg', 'collectionPrice': 10.32, 'trackPrice': 1.29, 'releaseDate': '2018-03-16T12:00:00Z', 'collectionExplicitness': 'notExplicit', 'trackExplicitness': 'notExplicit', 'discCount': 1, 'discNumber': 1, 'trackCount': 8, 'trackNumber': 6, 'trackTimeMillis': 195427, 'country': 'USA', 'currency': 'USD', 'primaryGenreName': 'Vocal', 'isStreamable': True}, {'wrapperType': 'track', 'kind': 'song', 'artistId': 657767063, 'collectionId': 1205132086, 'trackId': 1205132090, 'artistName': 'Manizha', 'collectionName': 'Manuscript', 'trackName': 'Alone', 'collectionCensoredName': 'Manuscript', 'trackCensoredName': 'Alone', 'artistViewUrl': 'https://music.apple.com/us/artist/manizha/657767063?uo=4', 'collectionViewUrl': 'https://music.apple.com/us/album/alone/1205132086?i=1205132090&uo=4', 'trackViewUrl': 'https://music.apple.com/us/album/alone/1205132086?i=1205132090&uo=4', 'previewUrl': 'https://audio-ssl.itunes.apple.com/itunes-assets/AudioPreview125/v4/f6/8f/30/f68f30eb-f7e6-0dd1-de2b-f54da05354ce/mzaf_8339091639591277164.plus.aac.p.m4a', 'artworkUrl30': 'https://is1-ssl.mzstatic.com/image/thumb/Music115/v4/2b/a1/52/2ba152d9-2e02-8a6c-91ef-b15344aef80e/191018850258.jpg/30x30bb.jpg', 'artworkUrl60': 'https://is1-ssl.mzstatic.com/image/thumb/Music115/v4/2b/a1/52/2ba152d9-2e02-8a6c-91ef-b15344aef80e/191018850258.jpg/60x60bb.jpg', 'artworkUrl100': 'https://is1-ssl.mzstatic.com/image/thumb/Music115/v4/2b/a1/52/2ba152d9-2e02-8a6c-91ef-b15344aef80e/191018850258.jpg/100x100bb.jpg', 'collectionPrice': 9.03, 'trackPrice': 1.29, 'releaseDate': '2017-02-17T12:00:00Z', 'collectionExplicitness': 'notExplicit', 'trackExplicitness': 'notExplicit', 'discCount': 1, 'discNumber': 1, 'trackCount': 7, 'trackNumber': 4, 'trackTimeMillis': 214640, 'country': 'USA', 'currency': 'USD', 'primaryGenreName': 'Pop', 'isStreamable': True}, {'wrapperType': 'track', 'kind': 'song', 'artistId': 657767063, 'collectionId': 1351117795, 'trackId': 1351117801, 'artistName': 'Manizha', 'collectionName': 'ЯIAM', 'trackName': 'начинается с', 'collectionCensoredName': 'ЯIAM', 'trackCensoredName': 'начинается с', 'artistViewUrl': 'https://music.apple.com/us/artist/manizha/657767063?uo=4', 'collectionViewUrl': 'https://music.apple.com/us/album/%D0%BD%D0%B0%D1%87%D0%B8%D0%BD%D0%B0%D0%B5%D1%82%D1%81%D1%8F-%D1%81/1351117795?i=1351117801&uo=4', 'trackViewUrl': 'https://music.apple.com/us/album/%D0%BD%D0%B0%D1%87%D0%B8%D0%BD%D0%B0%D0%B5%D1%82%D1%81%D1%8F-%D1%81/1351117795?i=1351117801&uo=4', 'previewUrl': 'https://audio-ssl.itunes.apple.com/itunes-assets/AudioPreview115/v4/40/a7/46/40a746bf-c137-8b22-97ae-6db9fa540aee/mzaf_776772232129524283.plus.aac.p.m4a', 'artworkUrl30': 'https://is1-ssl.mzstatic.com/image/thumb/Music118/v4/b3/6b/26/b36b26b4-e5e0-1aaf-ae82-10919072cb91/192562222737.jpg/30x30bb.jpg', 'artworkUrl60': 'https://is1-ssl.mzstatic.com/image/thumb/Music118/v4/b3/6b/26/b36b26b4-e5e0-1aaf-ae82-10919072cb91/192562222737.jpg/60x60bb.jpg', 'artworkUrl100': 'https://is1-ssl.mzstatic.com/image/thumb/Music118/v4/b3/6b/26/b36b26b4-e5e0-1aaf-ae82-10919072cb91/192562222737.jpg/100x100bb.jpg', 'collectionPrice': 10.32, 'trackPrice': 1.29, 'releaseDate': '2018-03-23T12:00:00Z', 'collectionExplicitness': 'notExplicit', 'trackExplicitness': 'notExplicit', 'discCount': 1, 'discNumber': 1, 'trackCount': 8, 'trackNumber': 1, 'trackTimeMillis': 218880, 'country': 'USA', 'currency': 'USD', 'primaryGenreName': 'Vocal', 'isStreamable': True}, {'wrapperType': 'track', 'kind': 'song', 'artistId': 657767063, 'collectionId': 1205132086, 'trackId': 1205132105, 'artistName': 'Manizha', 'collectionName': 'Manuscript', 'trackName': 'I Love Too Much', 'collectionCensoredName': 'Manuscript', 'trackCensoredName': 'I Love Too Much', 'artistViewUrl': 'https://music.apple.com/us/artist/manizha/657767063?uo=4', 'collectionViewUrl': 'https://music.apple.com/us/album/i-love-too-much/1205132086?i=1205132105&uo=4', 'trackViewUrl': 'https://music.apple.com/us/album/i-love-too-much/1205132086?i=1205132105&uo=4', 'previewUrl': 'https://audio-ssl.itunes.apple.com/itunes-assets/AudioPreview125/v4/49/ba/46/49ba4653-5b4f-6b71-b0ea-2f3ac1066114/mzaf_14496771185661097374.plus.aac.p.m4a', 'artworkUrl30': 'https://is1-ssl.mzstatic.com/image/thumb/Music115/v4/2b/a1/52/2ba152d9-2e02-8a6c-91ef-b15344aef80e/191018850258.jpg/30x30bb.jpg', 'artworkUrl60': 'https://is1-ssl.mzstatic.com/image/thumb/Music115/v4/2b/a1/52/2ba152d9-2e02-8a6c-91ef-b15344aef80e/191018850258.jpg/60x60bb.jpg', 'artworkUrl100': 'https://is1-ssl.mzstatic.com/image/thumb/Music115/v4/2b/a1/52/2ba152d9-2e02-8a6c-91ef-b15344aef80e/191018850258.jpg/100x100bb.jpg', 'collectionPrice': 9.03, 'trackPrice': 1.29, 'releaseDate': '2017-02-17T12:00:00Z', 'collectionExplicitness': 'notExplicit', 'trackExplicitness': 'notExplicit', 'discCount': 1, 'discNumber': 1, 'trackCount': 7, 'trackNumber': 7, 'trackTimeMillis': 195880, 'country': 'USA', 'currency': 'USD', 'primaryGenreName': 'Pop', 'isStreamable': True}, {'wrapperType': 'track', 'kind': 'song', 'artistId': 657767063, 'collectionId': 1488143576, 'trackId': 1488144018, 'artistName': 'Manizha', 'collectionName': 'НЕДОСЛАВЯНКА - Single', 'trackName': 'НЕДОСЛАВЯНКА', 'collectionCensoredName': 'НЕДОСЛАВЯНКА - Single', 'trackCensoredName': 'НЕДОСЛАВЯНКА', 'artistViewUrl': 'https://music.apple.com/us/artist/manizha/657767063?uo=4', 'collectionViewUrl': 'https://music.apple.com/us/album/%D0%BD%D0%B5%D0%B4%D0%BE%D1%81%D0%BB%D0%B0%D0%B2%D1%8F%D0%BD%D0%BA%D0%B0/1488143576?i=1488144018&uo=4', 'trackViewUrl': 'https://music.apple.com/us/album/%D0%BD%D0%B5%D0%B4%D0%BE%D1%81%D0%BB%D0%B0%D0%B2%D1%8F%D0%BD%D0%BA%D0%B0/1488143576?i=1488144018&uo=4', 'previewUrl': 'https://audio-ssl.itunes.apple.com/itunes-assets/AudioPreview115/v4/f6/3b/0b/f63b0b0f-12ad-3b8f-1b3e-b250966d016c/mzaf_14184682848587670123.plus.aac.p.m4a', 'artworkUrl30': 'https://is1-ssl.mzstatic.com/image/thumb/Music113/v4/db/fa/84/dbfa8408-32d2-d05c-33ef-feb766f4d14d/194491639891.jpg/30x30bb.jpg', 'artworkUrl60': 'https://is1-ssl.mzstatic.com/image/thumb/Music113/v4/db/fa/84/dbfa8408-32d2-d05c-33ef-feb766f4d14d/194491639891.jpg/60x60bb.jpg', 'artworkUrl100': 'https://is1-ssl.mzstatic.com/image/thumb/Music113/v4/db/fa/84/dbfa8408-32d2-d05c-33ef-feb766f4d14d/194491639891.jpg/100x100bb.jpg', 'collectionPrice': 1.29, 'trackPrice': 1.29, 'releaseDate': '2019-11-22T12:00:00Z', 'collectionExplicitness': 'notExplicit', 'trackExplicitness': 'notExplicit', 'discCount': 1, 'discNumber': 1, 'trackCount': 1, 'trackNumber': 1, 'trackTimeMillis': 184794, 'country': 'USA', 'currency': 'USD', 'primaryGenreName': 'Pop', 'isStreamable': True}, {'wrapperType': 'track', 'kind': 'song', 'artistId': 657767063, 'collectionId': 1205132086, 'trackId': 1205132089, 'artistName': 'Manizha', 'collectionName': 'Manuscript', 'trackName': 'Africa (feat. Boogrov)', 'collectionCensoredName': 'Manuscript', 'trackCensoredName': 'Africa (feat. Boogrov)', 'artistViewUrl': 'https://music.apple.com/us/artist/manizha/657767063?uo=4', 'collectionViewUrl': 'https://music.apple.com/us/album/africa-feat-boogrov/1205132086?i=1205132089&uo=4', 'trackViewUrl': 'https://music.apple.com/us/album/africa-feat-boogrov/1205132086?i=1205132089&uo=4', 'previewUrl': 'https://audio-ssl.itunes.apple.com/itunes-assets/AudioPreview115/v4/bf/bf/1c/bfbf1c86-bbe2-e42e-e6d7-8cc5186eca07/mzaf_13240912247193847783.plus.aac.p.m4a', 'artworkUrl30': 'https://is1-ssl.mzstatic.com/image/thumb/Music115/v4/2b/a1/52/2ba152d9-2e02-8a6c-91ef-b15344aef80e/191018850258.jpg/30x30bb.jpg', 'artworkUrl60': 'https://is1-ssl.mzstatic.com/image/thumb/Music115/v4/2b/a1/52/2ba152d9-2e02-8a6c-91ef-b15344aef80e/191018850258.jpg/60x60bb.jpg', 'artworkUrl100': 'https://is1-ssl.mzstatic.com/image/thumb/Music115/v4/2b/a1/52/2ba152d9-2e02-8a6c-91ef-b15344aef80e/191018850258.jpg/100x100bb.jpg', 'collectionPrice': 9.03, 'trackPrice': 1.29, 'releaseDate': '2017-02-17T12:00:00Z', 'collectionExplicitness': 'notExplicit', 'trackExplicitness': 'notExplicit', 'discCount': 1, 'discNumber': 1, 'trackCount': 7, 'trackNumber': 3, 'trackTimeMillis': 320133, 'country': 'USA', 'currency': 'USD', 'primaryGenreName': 'Pop', 'isStreamable': True}, {'wrapperType': 'track', 'kind': 'song', 'artistId': 657767063, 'collectionId': 1351117795, 'trackId': 1351119000, 'artistName': 'Manizha', 'collectionName': 'ЯIAM', 'trackName': 'я', 'collectionCensoredName': 'ЯIAM', 'trackCensoredName': 'я', 'artistViewUrl': 'https://music.apple.com/us/artist/manizha/657767063?uo=4', 'collectionViewUrl': 'https://music.apple.com/us/album/%D1%8F/1351117795?i=1351119000&uo=4', 'trackViewUrl': 'https://music.apple.com/us/album/%D1%8F/1351117795?i=1351119000&uo=4', 'previewUrl': 'https://audio-ssl.itunes.apple.com/itunes-assets/AudioPreview125/v4/2c/0f/46/2c0f464b-278f-a099-3616-e4bfe910a8ff/mzaf_5402349751495034477.plus.aac.p.m4a', 'artworkUrl30': 'https://is1-ssl.mzstatic.com/image/thumb/Music118/v4/b3/6b/26/b36b26b4-e5e0-1aaf-ae82-10919072cb91/192562222737.jpg/30x30bb.jpg', 'artworkUrl60': 'https://is1-ssl.mzstatic.com/image/thumb/Music118/v4/b3/6b/26/b36b26b4-e5e0-1aaf-ae82-10919072cb91/192562222737.jpg/60x60bb.jpg', 'artworkUrl100': 'https://is1-ssl.mzstatic.com/image/thumb/Music118/v4/b3/6b/26/b36b26b4-e5e0-1aaf-ae82-10919072cb91/192562222737.jpg/100x100bb.jpg', 'collectionPrice': 10.32, 'trackPrice': 1.29, 'releaseDate': '2018-03-23T12:00:00Z', 'collectionExplicitness': 'notExplicit', 'trackExplicitness': 'notExplicit', 'discCount': 1, 'discNumber': 1, 'trackCount': 8, 'trackNumber': 7, 'trackTimeMillis': 185840, 'country': 'USA', 'currency': 'USD', 'primaryGenreName': 'Vocal', 'isStreamable': True}, {'wrapperType': 'track', 'kind': 'song', 'artistId': 657767063, 'collectionId': 1205132086, 'trackId': 1205132088, 'artistName': 'Manizha', 'collectionName': 'Manuscript', 'trackName': 'I Miss Him', 'collectionCensoredName': 'Manuscript', 'trackCensoredName': 'I Miss Him', 'artistViewUrl': 'https://music.apple.com/us/artist/manizha/657767063?uo=4', 'collectionViewUrl': 'https://music.apple.com/us/album/i-miss-him/1205132086?i=1205132088&uo=4', 'trackViewUrl': 'https://music.apple.com/us/album/i-miss-him/1205132086?i=1205132088&uo=4', 'previewUrl': 'https://audio-ssl.itunes.apple.com/itunes-assets/AudioPreview115/v4/9f/3d/84/9f3d8446-b1aa-6ea4-efc8-9498a012ad33/mzaf_12883077704928887553.plus.aac.p.m4a', 'artworkUrl30': 'https://is1-ssl.mzstatic.com/image/thumb/Music115/v4/2b/a1/52/2ba152d9-2e02-8a6c-91ef-b15344aef80e/191018850258.jpg/30x30bb.jpg', 'artworkUrl60': 'https://is1-ssl.mzstatic.com/image/thumb/Music115/v4/2b/a1/52/2ba152d9-2e02-8a6c-91ef-b15344aef80e/191018850258.jpg/60x60bb.jpg', 'artworkUrl100': 'https://is1-ssl.mzstatic.com/image/thumb/Music115/v4/2b/a1/52/2ba152d9-2e02-8a6c-91ef-b15344aef80e/191018850258.jpg/100x100bb.jpg', 'collectionPrice': 9.03, 'trackPrice': 1.29, 'releaseDate': '2017-02-17T12:00:00Z', 'collectionExplicitness': 'notExplicit', 'trackExplicitness': 'notExplicit', 'discCount': 1, 'discNumber': 1, 'trackCount': 7, 'trackNumber': 2, 'trackTimeMillis': 258253, 'country': 'USA', 'currency': 'USD', 'primaryGenreName': 'Pop', 'isStreamable': True}, {'wrapperType': 'track', 'kind': 'song', 'artistId': 657767063, 'collectionId': 1205132086, 'trackId': 1205132104, 'artistName': 'Manizha', 'collectionName': 'Manuscript', 'trackName': 'Little Lady', 'collectionCensoredName': 'Manuscript', 'trackCensoredName': 'Little Lady', 'artistViewUrl': 'https://music.apple.com/us/artist/manizha/657767063?uo=4', 'collectionViewUrl': 'https://music.apple.com/us/album/little-lady/1205132086?i=1205132104&uo=4', 'trackViewUrl': 'https://music.apple.com/us/album/little-lady/1205132086?i=1205132104&uo=4', 'previewUrl': 'https://audio-ssl.itunes.apple.com/itunes-assets/AudioPreview115/v4/8b/a9/47/8ba94742-9a4c-6fbe-28d1-61243ef98fe3/mzaf_8719451033333204329.plus.aac.p.m4a', 'artworkUrl30': 'https://is1-ssl.mzstatic.com/image/thumb/Music115/v4/2b/a1/52/2ba152d9-2e02-8a6c-91ef-b15344aef80e/191018850258.jpg/30x30bb.jpg', 'artworkUrl60': 'https://is1-ssl.mzstatic.com/image/thumb/Music115/v4/2b/a1/52/2ba152d9-2e02-8a6c-91ef-b15344aef80e/191018850258.jpg/60x60bb.jpg', 'artworkUrl100': 'https://is1-ssl.mzstatic.com/image/thumb/Music115/v4/2b/a1/52/2ba152d9-2e02-8a6c-91ef-b15344aef80e/191018850258.jpg/100x100bb.jpg', 'collectionPrice': 9.03, 'trackPrice': 1.29, 'releaseDate': '2016-07-25T12:00:00Z', 'collectionExplicitness': 'notExplicit', 'trackExplicitness': 'notExplicit', 'discCount': 1, 'discNumber': 1, 'trackCount': 7, 'trackNumber': 6, 'trackTimeMillis': 219293, 'country': 'USA', 'currency': 'USD', 'primaryGenreName': 'Pop', 'isStreamable': True}, {'wrapperType': 'track', 'kind': 'song', 'artistId': 657767063, 'collectionId': 1154875239, 'trackId': 1154875392, 'artistName': 'Manizha & Dima Ustinov', 'collectionName': 'Sleepy Song - Single', 'trackName': 'Sleepy Song', 'collectionCensoredName': 'Sleepy Song - Single', 'trackCensoredName': 'Sleepy Song', 'artistViewUrl': 'https://music.apple.com/us/artist/manizha/657767063?uo=4', 'collectionViewUrl': 'https://music.apple.com/us/album/sleepy-song/1154875239?i=1154875392&uo=4', 'trackViewUrl': 'https://music.apple.com/us/album/sleepy-song/1154875239?i=1154875392&uo=4', 'previewUrl': 'https://audio-ssl.itunes.apple.com/itunes-assets/AudioPreview125/v4/5a/b3/d1/5ab3d15b-51c4-2c1e-07f7-25836061cad2/mzaf_7031795590923457889.plus.aac.p.m4a', 'artworkUrl30': 'https://is1-ssl.mzstatic.com/image/thumb/Music62/v4/53/74/c8/5374c874-a642-09cb-07c8-41249101fb27/859718018643_cover.jpg/30x30bb.jpg', 'artworkUrl60': 'https://is1-ssl.mzstatic.com/image/thumb/Music62/v4/53/74/c8/5374c874-a642-09cb-07c8-41249101fb27/859718018643_cover.jpg/60x60bb.jpg', 'artworkUrl100': 'https://is1-ssl.mzstatic.com/image/thumb/Music62/v4/53/74/c8/5374c874-a642-09cb-07c8-41249101fb27/859718018643_cover.jpg/100x100bb.jpg', 'collectionPrice': 0.99, 'trackPrice': 0.99, 'releaseDate': '2016-08-26T12:00:00Z', 'collectionExplicitness': 'notExplicit', 'trackExplicitness': 'notExplicit', 'discCount': 1, 'discNumber': 1, 'trackCount': 1, 'trackNumber': 1, 'trackTimeMillis': 233500, 'country': 'USA', 'currency': 'USD', 'primaryGenreName': 'Electronic', 'isStreamable': True}, {'wrapperType': 'track', 'kind': 'song', 'artistId': 657767063, 'collectionId': 1460606458, 'trackId': 1460606476, 'artistName': 'Manizha', 'collectionName': 'Womanizha - Single', 'trackName': 'I Am Who I Am', 'collectionCensoredName': 'Womanizha - Single', 'trackCensoredName': 'I Am Who I Am', 'artistViewUrl': 'https://music.apple.com/us/artist/manizha/657767063?uo=4', 'collectionViewUrl': 'https://music.apple.com/us/album/i-am-who-i-am/1460606458?i=1460606476&uo=4', 'trackViewUrl': 'https://music.apple.com/us/album/i-am-who-i-am/1460606458?i=1460606476&uo=4', 'previewUrl': 'https://audio-ssl.itunes.apple.com/itunes-assets/AudioPreview125/v4/9d/78/aa/9d78aa45-01fc-9ec0-cc6a-f675c92da191/mzaf_8680289985300293052.plus.aac.p.m4a', 'artworkUrl30': 'https://is1-ssl.mzstatic.com/image/thumb/Music113/v4/a0/9c/4c/a09c4c06-6916-cd13-636d-371a13e0aa01/193483758350.jpg/30x30bb.jpg', 'artworkUrl60': 'https://is1-ssl.mzstatic.com/image/thumb/Music113/v4/a0/9c/4c/a09c4c06-6916-cd13-636d-371a13e0aa01/193483758350.jpg/60x60bb.jpg', 'artworkUrl100': 'https://is1-ssl.mzstatic.com/image/thumb/Music113/v4/a0/9c/4c/a09c4c06-6916-cd13-636d-371a13e0aa01/193483758350.jpg/100x100bb.jpg', 'collectionPrice': 3.87, 'trackPrice': 1.29, 'releaseDate': '2019-04-26T12:00:00Z', 'collectionExplicitness': 'notExplicit', 'trackExplicitness': 'notExplicit', 'discCount': 1, 'discNumber': 1, 'trackCount': 3, 'trackNumber': 3, 'trackTimeMillis': 303400, 'country': 'USA', 'currency': 'USD', 'primaryGenreName': 'Pop', 'isStreamable': True}, {'wrapperType': 'track', 'kind': 'song', 'artistId': 657767063, 'collectionId': 1589270709, 'trackId': 1589270735, 'artistName': 'Manizha', 'collectionName': 'Трибьют t.A.T.u. \"200 по встречной\"', 'trackName': 'Не верь, не бойся', 'collectionCensoredName': 'Трибьют t.A.T.u. \"200 по встречной\"', 'trackCensoredName': 'Не верь, не бойся', 'collectionArtistId': 36270, 'collectionArtistName': 'Various Artists', 'artistViewUrl': 'https://music.apple.com/us/artist/manizha/657767063?uo=4', 'collectionViewUrl': 'https://music.apple.com/us/album/%D0%BD%D0%B5-%D0%B2%D0%B5%D1%80%D1%8C-%D0%BD%D0%B5-%D0%B1%D0%BE%D0%B9%D1%81%D1%8F/1589270709?i=1589270735&uo=4', 'trackViewUrl': 'https://music.apple.com/us/album/%D0%BD%D0%B5-%D0%B2%D0%B5%D1%80%D1%8C-%D0%BD%D0%B5-%D0%B1%D0%BE%D0%B9%D1%81%D1%8F/1589270709?i=1589270735&uo=4', 'previewUrl': 'https://audio-ssl.itunes.apple.com/itunes-assets/AudioPreview116/v4/9b/d9/98/9bd9981b-112a-32f6-7c55-8b5df8d4882b/mzaf_2587705684435330155.plus.aac.p.m4a', 'artworkUrl30': 'https://is1-ssl.mzstatic.com/image/thumb/Music125/v4/f6/ed/08/f6ed08c1-0c23-2691-e7d4-5ba5e43db7c9/cover.jpg/30x30bb.jpg', 'artworkUrl60': 'https://is1-ssl.mzstatic.com/image/thumb/Music125/v4/f6/ed/08/f6ed08c1-0c23-2691-e7d4-5ba5e43db7c9/cover.jpg/60x60bb.jpg', 'artworkUrl100': 'https://is1-ssl.mzstatic.com/image/thumb/Music125/v4/f6/ed/08/f6ed08c1-0c23-2691-e7d4-5ba5e43db7c9/cover.jpg/100x100bb.jpg', 'collectionPrice': 15.99, 'trackPrice': 1.29, 'releaseDate': '2021-11-05T12:00:00Z', 'collectionExplicitness': 'explicit', 'trackExplicitness': 'notExplicit', 'discCount': 1, 'discNumber': 1, 'trackCount': 26, 'trackNumber': 6, 'trackTimeMillis': 257707, 'country': 'USA', 'currency': 'USD', 'primaryGenreName': 'Pop', 'isStreamable': True}, {'wrapperType': 'track', 'kind': 'song', 'artistId': 657767063, 'collectionId': 1439606016, 'trackId': 1439606187, 'artistName': 'Manizha', 'collectionName': 'Мне легко - Single', 'trackName': 'Мне легко', 'collectionCensoredName': 'Мне легко - Single', 'trackCensoredName': 'Мне легко', 'artistViewUrl': 'https://music.apple.com/us/artist/manizha/657767063?uo=4', 'collectionViewUrl': 'https://music.apple.com/us/album/%D0%BC%D0%BD%D0%B5-%D0%BB%D0%B5%D0%B3%D0%BA%D0%BE/1439606016?i=1439606187&uo=4', 'trackViewUrl': 'https://music.apple.com/us/album/%D0%BC%D0%BD%D0%B5-%D0%BB%D0%B5%D0%B3%D0%BA%D0%BE/1439606016?i=1439606187&uo=4', 'previewUrl': 'https://audio-ssl.itunes.apple.com/itunes-assets/AudioPreview125/v4/01/2e/d6/012ed69a-a51e-4953-e154-3f041c94c96b/mzaf_16520865069371885292.plus.aac.p.m4a', 'artworkUrl30': 'https://is1-ssl.mzstatic.com/image/thumb/Music118/v4/57/38/76/57387691-6e4d-520c-2b5b-85ee2d5cfe8b/193483111278.jpg/30x30bb.jpg', 'artworkUrl60': 'https://is1-ssl.mzstatic.com/image/thumb/Music118/v4/57/38/76/57387691-6e4d-520c-2b5b-85ee2d5cfe8b/193483111278.jpg/60x60bb.jpg', 'artworkUrl100': 'https://is1-ssl.mzstatic.com/image/thumb/Music118/v4/57/38/76/57387691-6e4d-520c-2b5b-85ee2d5cfe8b/193483111278.jpg/100x100bb.jpg', 'collectionPrice': 1.29, 'trackPrice': 1.29, 'releaseDate': '2018-10-22T12:00:00Z', 'collectionExplicitness': 'notExplicit', 'trackExplicitness': 'notExplicit', 'discCount': 1, 'discNumber': 1, 'trackCount': 1, 'trackNumber': 1, 'trackTimeMillis': 134310, 'country': 'USA', 'currency': 'USD', 'primaryGenreName': 'Pop', 'isStreamable': True}, {'wrapperType': 'track', 'kind': 'song', 'artistId': 657767063, 'collectionId': 1563954465, 'trackId': 1563954592, 'artistName': 'Manizha', 'collectionName': 'Держи Меня Земля - Single', 'trackName': 'Держи Меня Земля', 'collectionCensoredName': 'Держи Меня Земля - Single', 'trackCensoredName': 'Держи Меня Земля', 'artistViewUrl': 'https://music.apple.com/us/artist/manizha/657767063?uo=4', 'collectionViewUrl': 'https://music.apple.com/us/album/%D0%B4%D0%B5%D1%80%D0%B6%D0%B8-%D0%BC%D0%B5%D0%BD%D1%8F-%D0%B7%D0%B5%D0%BC%D0%BB%D1%8F/1563954465?i=1563954592&uo=4', 'trackViewUrl': 'https://music.apple.com/us/album/%D0%B4%D0%B5%D1%80%D0%B6%D0%B8-%D0%BC%D0%B5%D0%BD%D1%8F-%D0%B7%D0%B5%D0%BC%D0%BB%D1%8F/1563954465?i=1563954592&uo=4', 'previewUrl': 'https://audio-ssl.itunes.apple.com/itunes-assets/AudioPreview115/v4/53/3d/41/533d4119-7e38-80ce-9f28-2c3863c142c4/mzaf_11484060205724584497.plus.aac.p.m4a', 'artworkUrl30': 'https://is1-ssl.mzstatic.com/image/thumb/Music125/v4/52/3d/7b/523d7bee-7436-afb0-0ad4-63711b322f0b/196006511692.jpg/30x30bb.jpg', 'artworkUrl60': 'https://is1-ssl.mzstatic.com/image/thumb/Music125/v4/52/3d/7b/523d7bee-7436-afb0-0ad4-63711b322f0b/196006511692.jpg/60x60bb.jpg', 'artworkUrl100': 'https://is1-ssl.mzstatic.com/image/thumb/Music125/v4/52/3d/7b/523d7bee-7436-afb0-0ad4-63711b322f0b/196006511692.jpg/100x100bb.jpg', 'collectionPrice': 0.99, 'trackPrice': 0.99, 'releaseDate': '2021-04-29T12:00:00Z', 'collectionExplicitness': 'notExplicit', 'trackExplicitness': 'notExplicit', 'discCount': 1, 'discNumber': 1, 'trackCount': 1, 'trackNumber': 1, 'trackTimeMillis': 300975, 'country': 'USA', 'currency': 'USD', 'primaryGenreName': 'Pop', 'isStreamable': True}, {'wrapperType': 'track', 'kind': 'song', 'artistId': 657767063, 'collectionId': 1488920523, 'trackId': 1488920766, 'artistName': 'Manizha', 'collectionName': 'VANYA - Single', 'trackName': 'VANYA', 'collectionCensoredName': 'VANYA - Single', 'trackCensoredName': 'VANYA', 'artistViewUrl': 'https://music.apple.com/us/artist/manizha/657767063?uo=4', 'collectionViewUrl': 'https://music.apple.com/us/album/vanya/1488920523?i=1488920766&uo=4', 'trackViewUrl': 'https://music.apple.com/us/album/vanya/1488920523?i=1488920766&uo=4', 'previewUrl': 'https://audio-ssl.itunes.apple.com/itunes-assets/AudioPreview115/v4/12/cb/72/12cb7202-2376-e2c4-d8a7-d666fd86f19d/mzaf_13013575271534433583.plus.aac.p.m4a', 'artworkUrl30': 'https://is1-ssl.mzstatic.com/image/thumb/Music123/v4/f8/a4/97/f8a497e0-3b80-f37e-177b-751a674aceeb/194491667092.jpg/30x30bb.jpg', 'artworkUrl60': 'https://is1-ssl.mzstatic.com/image/thumb/Music123/v4/f8/a4/97/f8a497e0-3b80-f37e-177b-751a674aceeb/194491667092.jpg/60x60bb.jpg', 'artworkUrl100': 'https://is1-ssl.mzstatic.com/image/thumb/Music123/v4/f8/a4/97/f8a497e0-3b80-f37e-177b-751a674aceeb/194491667092.jpg/100x100bb.jpg', 'collectionPrice': 1.29, 'trackPrice': 1.29, 'releaseDate': '2019-12-06T12:00:00Z', 'collectionExplicitness': 'notExplicit', 'trackExplicitness': 'notExplicit', 'discCount': 1, 'discNumber': 1, 'trackCount': 1, 'trackNumber': 1, 'trackTimeMillis': 211741, 'country': 'USA', 'currency': 'USD', 'primaryGenreName': 'Pop', 'isStreamable': True}, {'wrapperType': 'track', 'kind': 'song', 'artistId': 657767063, 'collectionId': 1394139700, 'trackId': 1394139787, 'artistName': 'Manizha', 'collectionName': 'Любил как мог - Single', 'trackName': 'Любил как мог', 'collectionCensoredName': 'Любил как мог - Single', 'trackCensoredName': 'Любил как мог', 'artistViewUrl': 'https://music.apple.com/us/artist/manizha/657767063?uo=4', 'collectionViewUrl': 'https://music.apple.com/us/album/%D0%BB%D1%8E%D0%B1%D0%B8%D0%BB-%D0%BA%D0%B0%D0%BA-%D0%BC%D0%BE%D0%B3/1394139700?i=1394139787&uo=4', 'trackViewUrl': 'https://music.apple.com/us/album/%D0%BB%D1%8E%D0%B1%D0%B8%D0%BB-%D0%BA%D0%B0%D0%BA-%D0%BC%D0%BE%D0%B3/1394139700?i=1394139787&uo=4', 'previewUrl': 'https://audio-ssl.itunes.apple.com/itunes-assets/AudioPreview115/v4/1a/aa/a0/1aaaa0b7-bc5c-0733-d4ec-24ca7bb5f0d1/mzaf_2983168969312154461.plus.aac.p.m4a', 'artworkUrl30': 'https://is1-ssl.mzstatic.com/image/thumb/Music125/v4/da/be/41/dabe41b1-3d8e-1f1f-83fb-1545d5e3941d/192562650578.jpg/30x30bb.jpg', 'artworkUrl60': 'https://is1-ssl.mzstatic.com/image/thumb/Music125/v4/da/be/41/dabe41b1-3d8e-1f1f-83fb-1545d5e3941d/192562650578.jpg/60x60bb.jpg', 'artworkUrl100': 'https://is1-ssl.mzstatic.com/image/thumb/Music125/v4/da/be/41/dabe41b1-3d8e-1f1f-83fb-1545d5e3941d/192562650578.jpg/100x100bb.jpg', 'collectionPrice': 1.29, 'trackPrice': 1.29, 'releaseDate': '2018-06-14T12:00:00Z', 'collectionExplicitness': 'explicit', 'trackExplicitness': 'explicit', 'discCount': 1, 'discNumber': 1, 'trackCount': 1, 'trackNumber': 1, 'trackTimeMillis': 197359, 'country': 'USA', 'currency': 'USD', 'primaryGenreName': 'Pop', 'contentAdvisoryRating': 'Explicit', 'isStreamable': True}, {'wrapperType': 'track', 'kind': 'song', 'artistId': 657767063, 'collectionId': 1518576961, 'trackId': 1518577371, 'artistName': 'Manizha', 'collectionName': 'Начало - Single', 'trackName': 'Начало', 'collectionCensoredName': 'Начало - Single', 'trackCensoredName': 'Начало', 'artistViewUrl': 'https://music.apple.com/us/artist/manizha/657767063?uo=4', 'collectionViewUrl': 'https://music.apple.com/us/album/%D0%BD%D0%B0%D1%87%D0%B0%D0%BB%D0%BE/1518576961?i=1518577371&uo=4', 'trackViewUrl': 'https://music.apple.com/us/album/%D0%BD%D0%B0%D1%87%D0%B0%D0%BB%D0%BE/1518576961?i=1518577371&uo=4', 'previewUrl': 'https://audio-ssl.itunes.apple.com/itunes-assets/AudioPreview115/v4/66/9a/b5/669ab521-c681-a904-e360-933cad327e8b/mzaf_4071736673427050680.plus.aac.p.m4a', 'artworkUrl30': 'https://is1-ssl.mzstatic.com/image/thumb/Music123/v4/0c/1c/a8/0c1ca8a7-f588-527d-e217-9c6faf394fc7/195081779171.jpg/30x30bb.jpg', 'artworkUrl60': 'https://is1-ssl.mzstatic.com/image/thumb/Music123/v4/0c/1c/a8/0c1ca8a7-f588-527d-e217-9c6faf394fc7/195081779171.jpg/60x60bb.jpg', 'artworkUrl100': 'https://is1-ssl.mzstatic.com/image/thumb/Music123/v4/0c/1c/a8/0c1ca8a7-f588-527d-e217-9c6faf394fc7/195081779171.jpg/100x100bb.jpg', 'collectionPrice': 1.29, 'trackPrice': 1.29, 'releaseDate': '2020-06-22T12:00:00Z', 'collectionExplicitness': 'notExplicit', 'trackExplicitness': 'notExplicit', 'discCount': 1, 'discNumber': 1, 'trackCount': 1, 'trackNumber': 1, 'trackTimeMillis': 199355, 'country': 'USA', 'currency': 'USD', 'primaryGenreName': 'Pop', 'isStreamable': True}, {'wrapperType': 'track', 'kind': 'song', 'artistId': 657767063, 'collectionId': 1460606458, 'trackId': 1460606475, 'artistName': 'Manizha', 'collectionName': 'Womanizha - Single', 'trackName': 'Woman', 'collectionCensoredName': 'Womanizha - Single', 'trackCensoredName': 'Woman', 'artistViewUrl': 'https://music.apple.com/us/artist/manizha/657767063?uo=4', 'collectionViewUrl': 'https://music.apple.com/us/album/woman/1460606458?i=1460606475&uo=4', 'trackViewUrl': 'https://music.apple.com/us/album/woman/1460606458?i=1460606475&uo=4', 'previewUrl': 'https://audio-ssl.itunes.apple.com/itunes-assets/AudioPreview125/v4/6a/84/04/6a84042e-bb52-933e-7601-ea027b892f8a/mzaf_12594662491285522934.plus.aac.p.m4a', 'artworkUrl30': 'https://is1-ssl.mzstatic.com/image/thumb/Music113/v4/a0/9c/4c/a09c4c06-6916-cd13-636d-371a13e0aa01/193483758350.jpg/30x30bb.jpg', 'artworkUrl60': 'https://is1-ssl.mzstatic.com/image/thumb/Music113/v4/a0/9c/4c/a09c4c06-6916-cd13-636d-371a13e0aa01/193483758350.jpg/60x60bb.jpg', 'artworkUrl100': 'https://is1-ssl.mzstatic.com/image/thumb/Music113/v4/a0/9c/4c/a09c4c06-6916-cd13-636d-371a13e0aa01/193483758350.jpg/100x100bb.jpg', 'collectionPrice': 3.87, 'trackPrice': 1.29, 'releaseDate': '2019-04-26T12:00:00Z', 'collectionExplicitness': 'notExplicit', 'trackExplicitness': 'notExplicit', 'discCount': 1, 'discNumber': 1, 'trackCount': 3, 'trackNumber': 2, 'trackTimeMillis': 278573, 'country': 'USA', 'currency': 'USD', 'primaryGenreName': 'Pop', 'isStreamable': True}, {'wrapperType': 'track', 'kind': 'song', 'artistId': 657767063, 'collectionId': 1295685323, 'trackId': 1295686198, 'artistName': 'Manizha', 'collectionName': 'The Emerald - Single', 'trackName': 'The Emerald', 'collectionCensoredName': 'The Emerald - Single', 'trackCensoredName': 'The Emerald', 'artistViewUrl': 'https://music.apple.com/us/artist/manizha/657767063?uo=4', 'collectionViewUrl': 'https://music.apple.com/us/album/the-emerald/1295685323?i=1295686198&uo=4', 'trackViewUrl': 'https://music.apple.com/us/album/the-emerald/1295685323?i=1295686198&uo=4', 'previewUrl': 'https://audio-ssl.itunes.apple.com/itunes-assets/AudioPreview125/v4/f9/ed/37/f9ed37b0-41a9-f0d8-eb5f-b8a15e6f5e84/mzaf_8393045576258086090.plus.aac.p.m4a', 'artworkUrl30': 'https://is1-ssl.mzstatic.com/image/thumb/Music118/v4/92/7f/f0/927ff0cb-4e1a-f84a-8032-19bc6c885dbf/191773807511.jpg/30x30bb.jpg', 'artworkUrl60': 'https://is1-ssl.mzstatic.com/image/thumb/Music118/v4/92/7f/f0/927ff0cb-4e1a-f84a-8032-19bc6c885dbf/191773807511.jpg/60x60bb.jpg', 'artworkUrl100': 'https://is1-ssl.mzstatic.com/image/thumb/Music118/v4/92/7f/f0/927ff0cb-4e1a-f84a-8032-19bc6c885dbf/191773807511.jpg/100x100bb.jpg', 'collectionPrice': 1.29, 'trackPrice': 1.29, 'releaseDate': '2017-10-13T12:00:00Z', 'collectionExplicitness': 'notExplicit', 'trackExplicitness': 'notExplicit', 'discCount': 1, 'discNumber': 1, 'trackCount': 1, 'trackNumber': 1, 'trackTimeMillis': 255440, 'country': 'USA', 'currency': 'USD', 'primaryGenreName': 'Pop', 'isStreamable': True}, {'wrapperType': 'track', 'kind': 'song', 'artistId': 657767063, 'collectionId': 1134053895, 'trackId': 1134054270, 'artistName': 'Manizha', 'collectionName': 'Little Lady - Single', 'trackName': 'Little Lady', 'collectionCensoredName': 'Little Lady - Single', 'trackCensoredName': 'Little Lady', 'artistViewUrl': 'https://music.apple.com/us/artist/manizha/657767063?uo=4', 'collectionViewUrl': 'https://music.apple.com/us/album/little-lady/1134053895?i=1134054270&uo=4', 'trackViewUrl': 'https://music.apple.com/us/album/little-lady/1134053895?i=1134054270&uo=4', 'previewUrl': 'https://audio-ssl.itunes.apple.com/itunes-assets/AudioPreview125/v4/c6/0a/52/c60a52c5-a37b-aae7-d06b-ae98f3735f74/mzaf_6916610263352320613.plus.aac.p.m4a', 'artworkUrl30': 'https://is1-ssl.mzstatic.com/image/thumb/Music124/v4/6d/d8/8f/6dd88f67-6362-9f66-ec7c-4f2fa3264fb2/859717791790_cover.jpg/30x30bb.jpg', 'artworkUrl60': 'https://is1-ssl.mzstatic.com/image/thumb/Music124/v4/6d/d8/8f/6dd88f67-6362-9f66-ec7c-4f2fa3264fb2/859717791790_cover.jpg/60x60bb.jpg', 'artworkUrl100': 'https://is1-ssl.mzstatic.com/image/thumb/Music124/v4/6d/d8/8f/6dd88f67-6362-9f66-ec7c-4f2fa3264fb2/859717791790_cover.jpg/100x100bb.jpg', 'collectionPrice': 0.99, 'trackPrice': 0.99, 'releaseDate': '2016-07-25T12:00:00Z', 'collectionExplicitness': 'notExplicit', 'trackExplicitness': 'notExplicit', 'discCount': 1, 'discNumber': 1, 'trackCount': 1, 'trackNumber': 1, 'trackTimeMillis': 217529, 'country': 'USA', 'currency': 'USD', 'primaryGenreName': 'R&B/Soul', 'isStreamable': True}, {'wrapperType': 'track', 'kind': 'song', 'artistId': 657767063, 'collectionId': 1115201485, 'trackId': 1115201977, 'artistName': 'Manizha', 'collectionName': 'I Love Too Much - Single', 'trackName': 'I Love Too Much', 'collectionCensoredName': 'I Love Too Much - Single', 'trackCensoredName': 'I Love Too Much', 'artistViewUrl': 'https://music.apple.com/us/artist/manizha/657767063?uo=4', 'collectionViewUrl': 'https://music.apple.com/us/album/i-love-too-much/1115201485?i=1115201977&uo=4', 'trackViewUrl': 'https://music.apple.com/us/album/i-love-too-much/1115201485?i=1115201977&uo=4', 'previewUrl': 'https://audio-ssl.itunes.apple.com/itunes-assets/AudioPreview115/v4/96/5e/ff/965eff71-3111-558b-0502-ccce0425ec94/mzaf_704524728313346373.plus.aac.p.m4a', 'artworkUrl30': 'https://is1-ssl.mzstatic.com/image/thumb/Music60/v4/42/26/76/422676f1-ea58-c777-2734-9fbb92901ad4/859717347904_cover.jpg/30x30bb.jpg', 'artworkUrl60': 'https://is1-ssl.mzstatic.com/image/thumb/Music60/v4/42/26/76/422676f1-ea58-c777-2734-9fbb92901ad4/859717347904_cover.jpg/60x60bb.jpg', 'artworkUrl100': 'https://is1-ssl.mzstatic.com/image/thumb/Music60/v4/42/26/76/422676f1-ea58-c777-2734-9fbb92901ad4/859717347904_cover.jpg/100x100bb.jpg', 'collectionPrice': 0.99, 'trackPrice': 0.99, 'releaseDate': '2016-05-15T07:00:00Z', 'collectionExplicitness': 'notExplicit', 'trackExplicitness': 'notExplicit', 'discCount': 1, 'discNumber': 1, 'trackCount': 1, 'trackNumber': 1, 'trackTimeMillis': 209237, 'country': 'USA', 'currency': 'USD', 'primaryGenreName': 'Pop', 'isStreamable': True}, {'wrapperType': 'track', 'kind': 'song', 'artistId': 657767063, 'collectionId': 1445229945, 'trackId': 1445229952, 'artistName': 'Manizha', 'collectionName': 'Black Swan', 'trackName': 'Black Swan (feat. Anya Chipovskaya)', 'collectionCensoredName': 'Black Swan', 'trackCensoredName': 'Black Swan (feat. Anya Chipovskaya)', 'artistViewUrl': 'https://music.apple.com/us/artist/manizha/657767063?uo=4', 'collectionViewUrl': 'https://music.apple.com/us/album/black-swan-feat-anya-chipovskaya/1445229945?i=1445229952&uo=4', 'trackViewUrl': 'https://music.apple.com/us/album/black-swan-feat-anya-chipovskaya/1445229945?i=1445229952&uo=4', 'previewUrl': 'https://audio-ssl.itunes.apple.com/itunes-assets/AudioPreview115/v4/e2/20/8a/e2208ab6-ca30-be23-1bb1-1addac1c76b1/mzaf_12143945013517384326.plus.aac.p.m4a', 'artworkUrl30': 'https://is1-ssl.mzstatic.com/image/thumb/Music118/v4/5a/aa/b5/5aaab54b-e58d-8ad4-3e43-ed208b2cbce9/193483254531.jpg/30x30bb.jpg', 'artworkUrl60': 'https://is1-ssl.mzstatic.com/image/thumb/Music118/v4/5a/aa/b5/5aaab54b-e58d-8ad4-3e43-ed208b2cbce9/193483254531.jpg/60x60bb.jpg', 'artworkUrl100': 'https://is1-ssl.mzstatic.com/image/thumb/Music118/v4/5a/aa/b5/5aaab54b-e58d-8ad4-3e43-ed208b2cbce9/193483254531.jpg/100x100bb.jpg', 'collectionPrice': 3.87, 'trackPrice': 1.29, 'releaseDate': '2018-12-14T12:00:00Z', 'collectionExplicitness': 'notExplicit', 'trackExplicitness': 'notExplicit', 'discCount': 1, 'discNumber': 1, 'trackCount': 3, 'trackNumber': 1, 'trackTimeMillis': 165467, 'country': 'USA', 'currency': 'USD', 'primaryGenreName': 'Pop', 'isStreamable': True}, {'wrapperType': 'track', 'kind': 'song', 'artistId': 657767063, 'collectionId': 1220846414, 'trackId': 1220847087, 'artistName': 'Manizha', 'collectionName': 'Define', 'trackName': 'Inogda (Boogrov Rework) [Bonus Track]', 'collectionCensoredName': 'Define', 'trackCensoredName': 'Inogda (Boogrov Rework) [Bonus Track]', 'collectionArtistId': 668781942, 'collectionArtistName': 'Boogrov', 'collectionArtistViewUrl': 'https://music.apple.com/us/artist/boogrov/668781942?uo=4', 'artistViewUrl': 'https://music.apple.com/us/artist/manizha/657767063?uo=4', 'collectionViewUrl': 'https://music.apple.com/us/album/inogda-boogrov-rework-bonus-track/1220846414?i=1220847087&uo=4', 'trackViewUrl': 'https://music.apple.com/us/album/inogda-boogrov-rework-bonus-track/1220846414?i=1220847087&uo=4', 'previewUrl': 'https://audio-ssl.itunes.apple.com/itunes-assets/AudioPreview125/v4/09/69/9d/09699dba-e234-b3ba-06ac-a228cd70d7cf/mzaf_17360379691501076951.plus.aac.p.m4a', 'artworkUrl30': 'https://is1-ssl.mzstatic.com/image/thumb/Music126/v4/fa/9f/b1/fa9fb14a-175d-b1b9-700d-abec9114e3f2/cover.jpg/30x30bb.jpg', 'artworkUrl60': 'https://is1-ssl.mzstatic.com/image/thumb/Music126/v4/fa/9f/b1/fa9fb14a-175d-b1b9-700d-abec9114e3f2/cover.jpg/60x60bb.jpg', 'artworkUrl100': 'https://is1-ssl.mzstatic.com/image/thumb/Music126/v4/fa/9f/b1/fa9fb14a-175d-b1b9-700d-abec9114e3f2/cover.jpg/100x100bb.jpg', 'collectionPrice': 7.99, 'trackPrice': 1.29, 'releaseDate': '2017-04-07T12:00:00Z', 'collectionExplicitness': 'notExplicit', 'trackExplicitness': 'notExplicit', 'discCount': 1, 'discNumber': 1, 'trackCount': 13, 'trackNumber': 13, 'trackTimeMillis': 287089, 'country': 'USA', 'currency': 'USD', 'primaryGenreName': 'Breakbeat', 'isStreamable': True}, {'wrapperType': 'track', 'kind': 'song', 'artistId': 586919688, 'collectionId': 1535665442, 'trackId': 1535665520, 'artistName': 'Bi-2 & Manizha', 'collectionName': 'Нечётный воин 4. Часть 1', 'trackName': 'Паганини в метро', 'collectionCensoredName': 'Нечётный воин 4. Часть 1', 'trackCensoredName': 'Паганини в метро', 'collectionArtistName': 'Bi-2', 'artistViewUrl': 'https://music.apple.com/us/artist/bi-2/586919688?uo=4', 'collectionViewUrl': 'https://music.apple.com/us/album/%D0%BF%D0%B0%D0%B3%D0%B0%D0%BD%D0%B8%D0%BD%D0%B8-%D0%B2-%D0%BC%D0%B5%D1%82%D1%80%D0%BE/1535665442?i=1535665520&uo=4', 'trackViewUrl': 'https://music.apple.com/us/album/%D0%BF%D0%B0%D0%B3%D0%B0%D0%BD%D0%B8%D0%BD%D0%B8-%D0%B2-%D0%BC%D0%B5%D1%82%D1%80%D0%BE/1535665442?i=1535665520&uo=4', 'previewUrl': 'https://audio-ssl.itunes.apple.com/itunes-assets/AudioPreview115/v4/51/f8/dd/51f8ddf8-9529-1fae-b065-43b251550026/mzaf_11549062724378269165.plus.aac.p.m4a', 'artworkUrl30': 'https://is1-ssl.mzstatic.com/image/thumb/Music124/v4/f9/7a/a9/f97aa914-4021-7443-7c4f-41ed819a8cc8/195497395422.jpg/30x30bb.jpg', 'artworkUrl60': 'https://is1-ssl.mzstatic.com/image/thumb/Music124/v4/f9/7a/a9/f97aa914-4021-7443-7c4f-41ed819a8cc8/195497395422.jpg/60x60bb.jpg', 'artworkUrl100': 'https://is1-ssl.mzstatic.com/image/thumb/Music124/v4/f9/7a/a9/f97aa914-4021-7443-7c4f-41ed819a8cc8/195497395422.jpg/100x100bb.jpg', 'collectionPrice': 11.99, 'trackPrice': 1.29, 'releaseDate': '2020-07-17T12:00:00Z', 'collectionExplicitness': 'notExplicit', 'trackExplicitness': 'notExplicit', 'discCount': 1, 'discNumber': 1, 'trackCount': 11, 'trackNumber': 1, 'trackTimeMillis': 385033, 'country': 'USA', 'currency': 'USD', 'primaryGenreName': 'Rock', 'isStreamable': True}, {'wrapperType': 'track', 'kind': 'song', 'artistId': 657767063, 'collectionId': 1585430730, 'trackId': 1585430732, 'artistName': 'Manizha', 'collectionName': 'Russian Woman Show (Live) - EP', 'trackName': 'Самолеты улетают (feat. Kirill Richter) [Live]', 'collectionCensoredName': 'Russian Woman Show (Live) - EP', 'trackCensoredName': 'Самолеты улетают (feat. Kirill Richter) [Live]', 'artistViewUrl': 'https://music.apple.com/us/artist/manizha/657767063?uo=4', 'collectionViewUrl': 'https://music.apple.com/us/album/%D1%81%D0%B0%D0%BC%D0%BE%D0%BB%D0%B5%D1%82%D1%8B-%D1%83%D0%BB%D0%B5%D1%82%D0%B0%D1%8E%D1%82-feat-kirill-richter-live/1585430730?i=1585430732&uo=4', 'trackViewUrl': 'https://music.apple.com/us/album/%D1%81%D0%B0%D0%BC%D0%BE%D0%BB%D0%B5%D1%82%D1%8B-%D1%83%D0%BB%D0%B5%D1%82%D0%B0%D1%8E%D1%82-feat-kirill-richter-live/1585430730?i=1585430732&uo=4', 'previewUrl': 'https://audio-ssl.itunes.apple.com/itunes-assets/AudioPreview115/v4/ef/2e/b5/ef2eb5ff-4f2e-0616-e9e0-f45ce2c7555e/mzaf_13325893507880311648.plus.aac.p.m4a', 'artworkUrl30': 'https://is1-ssl.mzstatic.com/image/thumb/Music115/v4/98/e7/b8/98e7b821-56e3-9ef0-f746-634b3c00f47b/196292447156.jpg/30x30bb.jpg', 'artworkUrl60': 'https://is1-ssl.mzstatic.com/image/thumb/Music115/v4/98/e7/b8/98e7b821-56e3-9ef0-f746-634b3c00f47b/196292447156.jpg/60x60bb.jpg', 'artworkUrl100': 'https://is1-ssl.mzstatic.com/image/thumb/Music115/v4/98/e7/b8/98e7b821-56e3-9ef0-f746-634b3c00f47b/196292447156.jpg/100x100bb.jpg', 'collectionPrice': 6.45, 'trackPrice': 1.29, 'releaseDate': '2021-09-24T12:00:00Z', 'collectionExplicitness': 'explicit', 'trackExplicitness': 'notExplicit', 'discCount': 1, 'discNumber': 1, 'trackCount': 5, 'trackNumber': 1, 'trackTimeMillis': 340759, 'country': 'USA', 'currency': 'USD', 'primaryGenreName': 'Pop', 'isStreamable': True}, {'wrapperType': 'track', 'kind': 'song', 'artistId': 657767063, 'collectionId': 1477383294, 'trackId': 1477383460, 'artistName': 'Manizha', 'collectionName': 'Завтрак - Single', 'trackName': 'Завтрак', 'collectionCensoredName': 'Завтрак - Single', 'trackCensoredName': 'Завтрак', 'artistViewUrl': 'https://music.apple.com/us/artist/manizha/657767063?uo=4', 'collectionViewUrl': 'https://music.apple.com/us/album/%D0%B7%D0%B0%D0%B2%D1%82%D1%80%D0%B0%D0%BA/1477383294?i=1477383460&uo=4', 'trackViewUrl': 'https://music.apple.com/us/album/%D0%B7%D0%B0%D0%B2%D1%82%D1%80%D0%B0%D0%BA/1477383294?i=1477383460&uo=4', 'previewUrl': 'https://audio-ssl.itunes.apple.com/itunes-assets/AudioPreview115/v4/9f/23/6a/9f236a04-bcf1-aed9-a971-880d1f65fc23/mzaf_6912086725907458704.plus.aac.p.m4a', 'artworkUrl30': 'https://is1-ssl.mzstatic.com/image/thumb/Music113/v4/6b/b1/30/6bb130fc-a66e-ae05-f46b-a13fcf4721f0/194491249762.jpg/30x30bb.jpg', 'artworkUrl60': 'https://is1-ssl.mzstatic.com/image/thumb/Music113/v4/6b/b1/30/6bb130fc-a66e-ae05-f46b-a13fcf4721f0/194491249762.jpg/60x60bb.jpg', 'artworkUrl100': 'https://is1-ssl.mzstatic.com/image/thumb/Music113/v4/6b/b1/30/6bb130fc-a66e-ae05-f46b-a13fcf4721f0/194491249762.jpg/100x100bb.jpg', 'collectionPrice': 1.29, 'trackPrice': 1.29, 'releaseDate': '2019-08-26T12:00:00Z', 'collectionExplicitness': 'notExplicit', 'trackExplicitness': 'notExplicit', 'discCount': 1, 'discNumber': 1, 'trackCount': 1, 'trackNumber': 1, 'trackTimeMillis': 178990, 'country': 'USA', 'currency': 'USD', 'primaryGenreName': 'Pop', 'isStreamable': True}, {'wrapperType': 'track', 'kind': 'song', 'artistId': 657767063, 'collectionId': 1599062518, 'trackId': 1599062946, 'artistName': 'Manizha', 'collectionName': 'Now or Never - Single', 'trackName': 'Now or Never', 'collectionCensoredName': 'Now or Never - Single', 'trackCensoredName': 'Now or Never', 'artistViewUrl': 'https://music.apple.com/us/artist/manizha/657767063?uo=4', 'collectionViewUrl': 'https://music.apple.com/us/album/now-or-never/1599062518?i=1599062946&uo=4', 'trackViewUrl': 'https://music.apple.com/us/album/now-or-never/1599062518?i=1599062946&uo=4', 'previewUrl': 'https://audio-ssl.itunes.apple.com/itunes-assets/AudioPreview116/v4/f3/c7/3e/f3c73e2d-8e51-d57b-f11e-9f61a7abeb41/mzaf_1397521748902967745.plus.aac.p.m4a', 'artworkUrl30': 'https://is1-ssl.mzstatic.com/image/thumb/Music116/v4/fe/22/82/fe228229-cb03-0b7b-57be-e339b89616db/196626024428.jpg/30x30bb.jpg', 'artworkUrl60': 'https://is1-ssl.mzstatic.com/image/thumb/Music116/v4/fe/22/82/fe228229-cb03-0b7b-57be-e339b89616db/196626024428.jpg/60x60bb.jpg', 'artworkUrl100': 'https://is1-ssl.mzstatic.com/image/thumb/Music116/v4/fe/22/82/fe228229-cb03-0b7b-57be-e339b89616db/196626024428.jpg/100x100bb.jpg', 'collectionPrice': 0.99, 'trackPrice': 0.99, 'releaseDate': '2021-12-10T12:00:00Z', 'collectionExplicitness': 'notExplicit', 'trackExplicitness': 'notExplicit', 'discCount': 1, 'discNumber': 1, 'trackCount': 1, 'trackNumber': 1, 'trackTimeMillis': 202991, 'country': 'USA', 'currency': 'USD', 'primaryGenreName': 'Pop', 'isStreamable': True}]\n"
          ]
        }
      ]
    },
    {
      "cell_type": "code",
      "source": [
        "df = pd.DataFrame(results)\n",
        "\n",
        "df.to_excel('itunes.xlsx')"
      ],
      "metadata": {
        "id": "Vo3nYye4lzoY"
      },
      "execution_count": 60,
      "outputs": []
    },
    {
      "cell_type": "code",
      "source": [
        "df.to_csv('itunes.csv', sep=';')"
      ],
      "metadata": {
        "id": "aJhFrzoYmDwt"
      },
      "execution_count": 61,
      "outputs": []
    },
    {
      "cell_type": "code",
      "source": [
        "# API cat fun facts\n",
        "\n",
        "fact_url = 'https://meowfacts.herokuapp.com/'\n",
        "\n",
        "response = requests.get(fact_url)"
      ],
      "metadata": {
        "id": "E8ewDOfFXrBH"
      },
      "execution_count": 92,
      "outputs": []
    },
    {
      "cell_type": "code",
      "source": [
        "if response.status_code == 200:\n",
        "\n",
        "  fact_data = response.json()\n",
        "  print(f\"Случайный факт о котах: {fact_data['data'][0]}\")\n",
        "\n",
        "else:\n",
        "\n",
        "  print(f\"Ошибка: {response.status_code}\")"
      ],
      "metadata": {
        "colab": {
          "base_uri": "https://localhost:8080/"
        },
        "id": "zJ4DeZ9emeNJ",
        "outputId": "4614f347-06a6-401b-8532-945d18b88961"
      },
      "execution_count": 81,
      "outputs": [
        {
          "output_type": "stream",
          "name": "stdout",
          "text": [
            "Случайный факт о котах: Almost 10% of a cat's bones are in its tail, and the tail is used to maintain balance.\n"
          ]
        }
      ]
    },
    {
      "cell_type": "code",
      "source": [
        "# пайплайн данных\n",
        "\n",
        "# обогатить с API\n",
        "try:\n",
        "  response.raise_for_status()\n",
        "except requests.exceptions.HTTPError as err:\n",
        "  print(f\"Произошла ошибка: {err}\")\n",
        "\n",
        "# продолжили загружать данные"
      ],
      "metadata": {
        "id": "H71Z1Vpamz9Y"
      },
      "execution_count": 82,
      "outputs": []
    },
    {
      "cell_type": "code",
      "source": [
        "for i in range(5):\n",
        "  response = requests.get(fact_url)\n",
        "  fact_data = response.json()\n",
        "\n",
        "  if response.status_code == 200:\n",
        "    print(f\"Случайный факт о котах: {fact_data['data'][0]}\")\n",
        "  else:\n",
        "    print(f\"Ошибка: {response.status_code}\")"
      ],
      "metadata": {
        "colab": {
          "base_uri": "https://localhost:8080/"
        },
        "id": "FQ0t-kLQoOHF",
        "outputId": "c0431301-4418-4859-9912-e92078dbf643"
      },
      "execution_count": 94,
      "outputs": [
        {
          "output_type": "stream",
          "name": "stdout",
          "text": [
            "Случайный факт о котах: Cat families usually play best in even numbers. Cats and kittens should be aquired in pairs whenever possible.\n",
            "Случайный факт о котах: 80% of orange cats are male\n",
            "Случайный факт о котах: Cats must have fat in their diet because they cannot produce it on their own.\n",
            "Случайный факт о котах: Contrary to popular belief, the cat is a social animal. A pet cat will respond and answer to speech , and seems to enjoy human companionship.\n",
            "Случайный факт о котах: In the Middle Ages, during the Festival of Saint John, cats were burned alive in town squares.\n"
          ]
        }
      ]
    },
    {
      "cell_type": "code",
      "source": [],
      "metadata": {
        "id": "bQJjvCtlo_G0"
      },
      "execution_count": null,
      "outputs": []
    }
  ]
}